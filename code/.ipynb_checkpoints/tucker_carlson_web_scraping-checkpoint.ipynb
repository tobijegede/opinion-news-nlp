{
 "cells": [
  {
   "cell_type": "markdown",
   "metadata": {},
   "source": [
    "# Fox News (Tucker Carlson) Web Scraping"
   ]
  },
  {
   "cell_type": "code",
   "execution_count": 48,
   "metadata": {},
   "outputs": [],
   "source": [
    "#importing libraries\n",
    "from selenium import webdriver\n",
    "from selenium.webdriver.common.keys import Keys\n",
    "import pandas as pd\n",
    "import re"
   ]
  },
  {
   "cell_type": "code",
   "execution_count": 37,
   "metadata": {},
   "outputs": [],
   "source": [
    "driver = webdriver.Chrome(executable_path=r'C:/Users/lambe/Downloads/chromedriver_win32/chromedriver.exe')"
   ]
  },
  {
   "cell_type": "code",
   "execution_count": 30,
   "metadata": {},
   "outputs": [],
   "source": [
    "driver.get('https://www.foxnews.com/category/shows/tucker-carlson-tonight/transcript')"
   ]
  },
  {
   "cell_type": "code",
   "execution_count": 30,
   "metadata": {},
   "outputs": [],
   "source": [
    "#old code\n",
    "#articles = driver.find_elements_by_xpath('//div[@class=\"content article-list\"]')"
   ]
  },
  {
   "cell_type": "code",
   "execution_count": 32,
   "metadata": {},
   "outputs": [],
   "source": [
    "# Code to \"show more\" manually\n",
    "#btn = driver.find_element_by_xpath(\"//div[@class='button load-more js-load-more']\") \n",
    "#btn.click()"
   ]
  },
  {
   "cell_type": "code",
   "execution_count": 11,
   "metadata": {},
   "outputs": [],
   "source": [
    "#Code to click \"show more\" iteratively\n",
    "#Set a counter to limit the number of iterations (otherwise, it will probably run indefinitely)\n",
    "#Takes 5 minutes to run due to the timer in between steps (necessary to avoid overloading the website)\n",
    "\n",
    "import time\n",
    "\n",
    "time.sleep(3)\n",
    "iter_count = 0\n",
    "while iter_count < 75:\n",
    "    try:       \n",
    "        show_more = driver.find_element_by_xpath(\"//div[@class='button load-more js-load-more']\")\n",
    "        show_more.click()\n",
    "        #print(\"Show more button clicked\")\n",
    "        iter_count += 1\n",
    "        time.sleep(3)\n",
    "    except:\n",
    "        #print(\"No more Show more button\")\n",
    "        break"
   ]
  },
  {
   "cell_type": "code",
   "execution_count": 31,
   "metadata": {},
   "outputs": [
    {
     "name": "stdout",
     "output_type": "stream",
     "text": [
      "['https://www.foxnews.com/transcript/tucker-why-did-the-russians-do-this', 'https://www.foxnews.com/transcript/tucker-how-is-a-parent-supposed-to-respond-to-this', 'https://www.foxnews.com/transcript/tucker-cory-booker-invented-his-own-identity']\n"
     ]
    }
   ],
   "source": [
    "articles = driver.find_elements_by_xpath('//div[@class=\"content article-list\"]//article[@class=\"article\"]//div[@class=\"m\"]//a[@href]')\n",
    "\n",
    "#Scraping the list of URLs to show transcripts\n",
    "\n",
    "url_list = []\n",
    "for x in range(len(articles)):\n",
    "# logic to only pull links to show transcripts (and not the monologue transcipt)\n",
    "    if \"transcript\" in articles[x].get_attribute(\"href\") and \"monologue\" not in articles[x].get_attribute(\"href\"):\n",
    "        url_list.append(articles[x].get_attribute(\"href\"))\n",
    "    \n",
    "print(url_list)\n"
   ]
  },
  {
   "cell_type": "code",
   "execution_count": 47,
   "metadata": {},
   "outputs": [
    {
     "name": "stdout",
     "output_type": "stream",
     "text": [
      "https://www.foxnews.com/transcript/tucker-why-did-the-russians-do-this\n",
      "https://www.foxnews.com/transcript/tucker-how-is-a-parent-supposed-to-respond-to-this\n",
      "https://www.foxnews.com/transcript/tucker-cory-booker-invented-his-own-identity\n",
      "['This is a rush transcript of \"Tucker Carlson Tonight\" on March 30, 2022. This copy may not be in its final form and may be updated.', 'This is a rush transcript of \"Tucker Carlson Tonight\" on March 29, 2022. This copy may not be in its final form and may be updated.', 'This is a rush transcript from \"Tucker Carlson Tonight,\" March 24, 2022. This copy may not be in its final form and may be updated.']\n"
     ]
    }
   ],
   "source": [
    "\n",
    "\n",
    "article_dates = []\n",
    "for x in range(len(url_list))[:6]:\n",
    "    print(url_list[x])\n",
    "    driver.get(url_list[x])\n",
    "    d = driver.find_element_by_class_name(\"speakable\").text\n",
    "    article_dates.append(d)\n",
    "    \n",
    "print(article_text)\n",
    "\n",
    "#[0-9],20[0-9][0-9]\n",
    "\n",
    "#driver.get(url_list[0])\n"
   ]
  },
  {
   "cell_type": "code",
   "execution_count": null,
   "metadata": {},
   "outputs": [],
   "source": [
    "# Need to scrape article transcripts"
   ]
  }
 ],
 "metadata": {
  "kernelspec": {
   "display_name": "Python 3",
   "language": "python",
   "name": "python3"
  },
  "language_info": {
   "codemirror_mode": {
    "name": "ipython",
    "version": 3
   },
   "file_extension": ".py",
   "mimetype": "text/x-python",
   "name": "python",
   "nbconvert_exporter": "python",
   "pygments_lexer": "ipython3",
   "version": "3.8.5"
  }
 },
 "nbformat": 4,
 "nbformat_minor": 4
}
