{
 "cells": [
  {
   "cell_type": "markdown",
   "metadata": {},
   "source": [
    "## Update Stop Words"
   ]
  },
  {
   "cell_type": "code",
   "execution_count": 1,
   "metadata": {},
   "outputs": [
    {
     "data": {
      "text/plain": [
       "frozenset({'a',\n",
       "           'about',\n",
       "           'above',\n",
       "           'across',\n",
       "           'after',\n",
       "           'afterwards',\n",
       "           'again',\n",
       "           'against',\n",
       "           'all',\n",
       "           'almost',\n",
       "           'alone',\n",
       "           'along',\n",
       "           'already',\n",
       "           'also',\n",
       "           'although',\n",
       "           'always',\n",
       "           'am',\n",
       "           'among',\n",
       "           'amongst',\n",
       "           'amoungst',\n",
       "           'amount',\n",
       "           'an',\n",
       "           'and',\n",
       "           'another',\n",
       "           'any',\n",
       "           'anyhow',\n",
       "           'anyone',\n",
       "           'anything',\n",
       "           'anyway',\n",
       "           'anywhere',\n",
       "           'are',\n",
       "           'around',\n",
       "           'as',\n",
       "           'at',\n",
       "           'back',\n",
       "           'be',\n",
       "           'became',\n",
       "           'because',\n",
       "           'become',\n",
       "           'becomes',\n",
       "           'becoming',\n",
       "           'been',\n",
       "           'before',\n",
       "           'beforehand',\n",
       "           'behind',\n",
       "           'being',\n",
       "           'below',\n",
       "           'beside',\n",
       "           'besides',\n",
       "           'between',\n",
       "           'beyond',\n",
       "           'bill',\n",
       "           'both',\n",
       "           'bottom',\n",
       "           'but',\n",
       "           'by',\n",
       "           'call',\n",
       "           'can',\n",
       "           'cannot',\n",
       "           'cant',\n",
       "           'co',\n",
       "           'con',\n",
       "           'could',\n",
       "           'couldnt',\n",
       "           'cry',\n",
       "           'de',\n",
       "           'describe',\n",
       "           'detail',\n",
       "           'do',\n",
       "           'done',\n",
       "           'down',\n",
       "           'due',\n",
       "           'during',\n",
       "           'each',\n",
       "           'eg',\n",
       "           'eight',\n",
       "           'either',\n",
       "           'eleven',\n",
       "           'else',\n",
       "           'elsewhere',\n",
       "           'empty',\n",
       "           'enough',\n",
       "           'etc',\n",
       "           'even',\n",
       "           'ever',\n",
       "           'every',\n",
       "           'everyone',\n",
       "           'everything',\n",
       "           'everywhere',\n",
       "           'except',\n",
       "           'few',\n",
       "           'fifteen',\n",
       "           'fifty',\n",
       "           'fill',\n",
       "           'find',\n",
       "           'fire',\n",
       "           'first',\n",
       "           'five',\n",
       "           'for',\n",
       "           'former',\n",
       "           'formerly',\n",
       "           'forty',\n",
       "           'found',\n",
       "           'four',\n",
       "           'from',\n",
       "           'front',\n",
       "           'full',\n",
       "           'further',\n",
       "           'get',\n",
       "           'give',\n",
       "           'go',\n",
       "           'had',\n",
       "           'has',\n",
       "           'hasnt',\n",
       "           'have',\n",
       "           'he',\n",
       "           'hence',\n",
       "           'her',\n",
       "           'here',\n",
       "           'hereafter',\n",
       "           'hereby',\n",
       "           'herein',\n",
       "           'hereupon',\n",
       "           'hers',\n",
       "           'herself',\n",
       "           'him',\n",
       "           'himself',\n",
       "           'his',\n",
       "           'how',\n",
       "           'however',\n",
       "           'hundred',\n",
       "           'i',\n",
       "           'ie',\n",
       "           'if',\n",
       "           'in',\n",
       "           'inc',\n",
       "           'indeed',\n",
       "           'interest',\n",
       "           'into',\n",
       "           'is',\n",
       "           'it',\n",
       "           'its',\n",
       "           'itself',\n",
       "           'keep',\n",
       "           'last',\n",
       "           'latter',\n",
       "           'latterly',\n",
       "           'least',\n",
       "           'less',\n",
       "           'ltd',\n",
       "           'made',\n",
       "           'many',\n",
       "           'may',\n",
       "           'me',\n",
       "           'meanwhile',\n",
       "           'might',\n",
       "           'mill',\n",
       "           'mine',\n",
       "           'more',\n",
       "           'moreover',\n",
       "           'most',\n",
       "           'mostly',\n",
       "           'move',\n",
       "           'much',\n",
       "           'must',\n",
       "           'my',\n",
       "           'myself',\n",
       "           'name',\n",
       "           'namely',\n",
       "           'neither',\n",
       "           'never',\n",
       "           'nevertheless',\n",
       "           'next',\n",
       "           'nine',\n",
       "           'no',\n",
       "           'nobody',\n",
       "           'none',\n",
       "           'noone',\n",
       "           'nor',\n",
       "           'not',\n",
       "           'nothing',\n",
       "           'now',\n",
       "           'nowhere',\n",
       "           'of',\n",
       "           'off',\n",
       "           'often',\n",
       "           'on',\n",
       "           'once',\n",
       "           'one',\n",
       "           'only',\n",
       "           'onto',\n",
       "           'or',\n",
       "           'other',\n",
       "           'others',\n",
       "           'otherwise',\n",
       "           'our',\n",
       "           'ours',\n",
       "           'ourselves',\n",
       "           'out',\n",
       "           'over',\n",
       "           'own',\n",
       "           'part',\n",
       "           'per',\n",
       "           'perhaps',\n",
       "           'please',\n",
       "           'put',\n",
       "           'rather',\n",
       "           're',\n",
       "           'same',\n",
       "           'see',\n",
       "           'seem',\n",
       "           'seemed',\n",
       "           'seeming',\n",
       "           'seems',\n",
       "           'serious',\n",
       "           'several',\n",
       "           'she',\n",
       "           'should',\n",
       "           'show',\n",
       "           'side',\n",
       "           'since',\n",
       "           'sincere',\n",
       "           'six',\n",
       "           'sixty',\n",
       "           'so',\n",
       "           'some',\n",
       "           'somehow',\n",
       "           'someone',\n",
       "           'something',\n",
       "           'sometime',\n",
       "           'sometimes',\n",
       "           'somewhere',\n",
       "           'still',\n",
       "           'such',\n",
       "           'system',\n",
       "           'take',\n",
       "           'ten',\n",
       "           'than',\n",
       "           'that',\n",
       "           'the',\n",
       "           'their',\n",
       "           'them',\n",
       "           'themselves',\n",
       "           'then',\n",
       "           'thence',\n",
       "           'there',\n",
       "           'thereafter',\n",
       "           'thereby',\n",
       "           'therefore',\n",
       "           'therein',\n",
       "           'thereupon',\n",
       "           'these',\n",
       "           'they',\n",
       "           'thick',\n",
       "           'thin',\n",
       "           'third',\n",
       "           'this',\n",
       "           'those',\n",
       "           'though',\n",
       "           'three',\n",
       "           'through',\n",
       "           'throughout',\n",
       "           'thru',\n",
       "           'thus',\n",
       "           'to',\n",
       "           'together',\n",
       "           'too',\n",
       "           'top',\n",
       "           'toward',\n",
       "           'towards',\n",
       "           'twelve',\n",
       "           'twenty',\n",
       "           'two',\n",
       "           'un',\n",
       "           'under',\n",
       "           'until',\n",
       "           'up',\n",
       "           'upon',\n",
       "           'us',\n",
       "           'very',\n",
       "           'via',\n",
       "           'was',\n",
       "           'we',\n",
       "           'well',\n",
       "           'were',\n",
       "           'what',\n",
       "           'whatever',\n",
       "           'when',\n",
       "           'whence',\n",
       "           'whenever',\n",
       "           'where',\n",
       "           'whereafter',\n",
       "           'whereas',\n",
       "           'whereby',\n",
       "           'wherein',\n",
       "           'whereupon',\n",
       "           'wherever',\n",
       "           'whether',\n",
       "           'which',\n",
       "           'while',\n",
       "           'whither',\n",
       "           'who',\n",
       "           'whoever',\n",
       "           'whole',\n",
       "           'whom',\n",
       "           'whose',\n",
       "           'why',\n",
       "           'will',\n",
       "           'with',\n",
       "           'within',\n",
       "           'without',\n",
       "           'would',\n",
       "           'yet',\n",
       "           'you',\n",
       "           'your',\n",
       "           'yours',\n",
       "           'yourself',\n",
       "           'yourselves'})"
      ]
     },
     "execution_count": 1,
     "metadata": {},
     "output_type": "execute_result"
    }
   ],
   "source": [
    "from sklearn.feature_extraction import text \n",
    "\n",
    "text.ENGLISH_STOP_WORDS"
   ]
  },
  {
   "cell_type": "code",
   "execution_count": 3,
   "metadata": {},
   "outputs": [],
   "source": [
    "# add network, host names\n",
    "add_stop_words = ['tucker', 'carlson', 'fox', 'news', 'five', \n",
    "                'greg', 'gutfeld', 'dana', 'perino', 'jesse', 'watters', \n",
    "                'jeanine', 'pirro', 'geraldo', 'rivera', 'jessica', 'tarlov',\n",
    "                'harold', 'ford', 'jr', 'ok', 'williams',  'pavlich', \n",
    "                'mcdowell', 'juan']"
   ]
  },
  {
   "cell_type": "code",
   "execution_count": 4,
   "metadata": {},
   "outputs": [],
   "source": [
    "# add custom words to the English set\n",
    "full_stop_words = text.ENGLISH_STOP_WORDS.union(add_stop_words)"
   ]
  },
  {
   "cell_type": "markdown",
   "metadata": {},
   "source": [
    "## Define COVID terms\n",
    "Define groups of terms referring to COVID, vaccines, masks"
   ]
  },
  {
   "cell_type": "code",
   "execution_count": 5,
   "metadata": {},
   "outputs": [],
   "source": [
    "# covid terms -- Lori added sars, sars-, sars-cov-2\n",
    "covid_terms = ['coronavirus', 'covid', 'covid-19', 'covid-', \n",
    "                'covid19', 'virus', 'sars', 'sars-', 'sars-cov-2']\n",
    "\n",
    "# vaccine terms -- Lori added pfizer, moderna, johnson\n",
    "vaccine_terms = ['vaccine', 'vaccination', 'vaccinated', 'mrna', 'booster', 'vax', 'vaxx', \n",
    "                'vaxxed', 'pfizer', 'moderna', 'johnson']\n",
    "\n",
    "# mask terms -- Lori added n95 and kn95\n",
    "mask_terms = ['mask', 'masking', 'n95', 'kn95']\n",
    "\n",
    "# other COVID-related terms (can choose to use or not)\n",
    "other_terms = ['china', 'wuhan', 'mandate', 'pandemic', 'epidemic', 'virus',\n",
    "                'distancing', 'spread', 'immunity', 'incubation', 'quarantine']\n",
    "\n",
    "all_covid_terms = covid_terms + other_terms"
   ]
  },
  {
   "cell_type": "markdown",
   "metadata": {},
   "source": [
    "## Load Data"
   ]
  },
  {
   "cell_type": "code",
   "execution_count": 6,
   "metadata": {},
   "outputs": [],
   "source": [
    "#import libraries\n",
    "import glob \n",
    "import os\n",
    "import matplotlib.pyplot as plt\n",
    "import numpy as np\n",
    "import string\n",
    "import re\n",
    "\n",
    "#step 1: get a list of file names to read into the dataset\n",
    "repo_path = os.path.dirname(os.getcwd()) #get the correct file path \n",
    "tc_paths = glob.glob(repo_path + \"/data/01-raw/tucker_carlson/*.txt\") #the paths for the tucker carlson transcript files\n",
    "tf_paths = glob.glob(repo_path + '/data/01-raw/the_five/*.txt') #the paths for the five transcript files\n",
    "\n",
    "all_conservative_files = tc_paths + tf_paths #all conservative transcripts"
   ]
  },
  {
   "cell_type": "markdown",
   "metadata": {},
   "source": [
    "## Read files, clean text, store cleaned transcripts and sentences"
   ]
  },
  {
   "cell_type": "code",
   "execution_count": 7,
   "metadata": {},
   "outputs": [],
   "source": [
    "text_transcripts = [] # container for transcript text\n",
    "text_sentences = [] # container for sentence text\n",
    "covid_counts_transcripts = [] # container for transcript covid mention counts\n",
    "covid_counts_sentences = [] # container for sentence covid mention counts\n",
    "\n",
    "# read in each transcript, do text cleaning, add text and counts to containers\n",
    "# split sentences on periods, do text cleaning, add text and counts to containers\n",
    "# text cleaning is done separately for transcripts and sentences to help split sentences better\n",
    "\n",
    "#### transcripts as documents\n",
    "for transcript in all_conservative_files:\n",
    "    \n",
    "    # create transcript covid counter\n",
    "    cov_trans_counter = 0\n",
    "    \n",
    "    # read text\n",
    "    text = open(transcript, encoding = 'utf-8', errors = 'ignore').read().lower()  # Lori ignored a few characters that were not ASCII\n",
    "    \n",
    "    ### string cleaning\n",
    "    # line below replaces periods with spaces because spaces after periods are often missing, then strips extra spaces\n",
    "    corpus_text = text.replace('\\xa0', '').replace('.', ' ').replace('  ', ' ')\n",
    "    # remove all punctuation\n",
    "    for c in string.punctuation:\n",
    "        corpus_text = corpus_text.replace(c, \"\")\n",
    "    # remove numbers\n",
    "    corpus_text = re.sub('\\d+', '', corpus_text)\n",
    "    # remove whitespaces\n",
    "    corpus_text = \" \".join(corpus_text.split())\n",
    "    \n",
    "    # add cleaned text to container\n",
    "    text_transcripts.append(corpus_text)\n",
    "    \n",
    "    # add to counter if word in text is in covid terms, add count to container\n",
    "    for word in corpus_text.split(' '):\n",
    "        if word in covid_terms:\n",
    "            cov_trans_counter += 1\n",
    "    covid_counts_transcripts.append(cov_trans_counter)\n",
    "    \n",
    "    \n",
    "    #### sentences as documents\n",
    "    for sentence in text.split('.'): # note that splitting on periods is not perfect for identifying sentences\n",
    "        \n",
    "        # create sentence covid counter\n",
    "        cov_sen_counter = 0\n",
    "        \n",
    "        ### string cleaning\n",
    "        corpus_sen = sentence.replace('\\xa0', '')\n",
    "        # remove all punctuation    \n",
    "        for c in string.punctuation:\n",
    "            corpus_sen = corpus_sen.replace(c, \"\")\n",
    "        # remove numbers            \n",
    "        corpus_sen = re.sub('\\d+', '', corpus_sen)\n",
    "        # remove whitespaces\n",
    "        corpus_sen = \" \".join(corpus_sen.split())\n",
    "        \n",
    "        # add cleaned sentence to container\n",
    "        text_sentences.append(corpus_sen)\n",
    "        \n",
    "        # add to counter if word in sentence is in covid terms, add count to container\n",
    "        for word in corpus_sen.split(' '):\n",
    "            if word in covid_terms:\n",
    "                cov_sen_counter += 1\n",
    "        covid_counts_sentences.append(cov_sen_counter)  "
   ]
  },
  {
   "cell_type": "code",
   "execution_count": 8,
   "metadata": {},
   "outputs": [
    {
     "name": "stdout",
     "output_type": "stream",
     "text": [
      "Our conservative news corpus consists of 458 total transcripts, sourced from Tucker Carlson Tonight and The Five.\n",
      "There are 254,010 total sentences in the corpus.\n",
      "There are 434 transcripts that mention COVID at least once.\n"
     ]
    }
   ],
   "source": [
    "# display simple counts\n",
    "print(\"Our conservative news corpus consists of {:,} total transcripts, sourced from Tucker Carlson Tonight and The Five.\".format(len(text_transcripts)))\n",
    "\n",
    "print(\"There are {:,} total sentences in the corpus.\".format(len(text_sentences)))\n",
    "\n",
    "print(\"There are {:,} transcripts that mention COVID at least once.\".format(len(text_transcripts) - covid_counts_transcripts.count(0)))"
   ]
  },
  {
   "cell_type": "code",
   "execution_count": 9,
   "metadata": {},
   "outputs": [
    {
     "data": {
      "image/png": "[encoded data removed]",
      "text/plain": [
       "<Figure size 576x396 with 1 Axes>"
      ]
     },
     "metadata": {},
     "output_type": "display_data"
    }
   ],
   "source": [
    "# Distribution of COVID mentions - transcripts\n",
    "plt.style.use('seaborn')  \n",
    "\n",
    "plt.hist(covid_counts_transcripts, bins = 40)\n",
    "plt.xlabel('Number of COVID Mentions')\n",
    "plt.ylabel('Count of Transcripts')\n",
    "plt.title('Distribution of Transcript-Level COVID Mentions')\n",
    "\n",
    "plt.show()"
   ]
  },
  {
   "cell_type": "code",
   "execution_count": 13,
   "metadata": {},
   "outputs": [],
   "source": [
    "# Lori -- Looked for COVID term counts again using a wider list of terms\n",
    "\n",
    "all_covid_counts_transcripts = [] # container for transcript covid mention counts\n",
    "all_covid_counts_sentences = [] # container for sentence covid mention counts\n",
    "\n",
    "# read in each transcript, do text cleaning, add text and counts to containers\n",
    "# split sentences on periods, do text cleaning, add text and counts to containers\n",
    "# text cleaning is done separately for transcripts and sentences to help split sentences better\n",
    "\n",
    "#### transcripts as documents\n",
    "for transcript in all_conservative_files: \n",
    "    # add to counter if word in text is in the combined covid terms list, add count to container\n",
    "    for word in corpus_text.split(' '):\n",
    "        if word in all_covid_terms:\n",
    "            cov_trans_counter += 1\n",
    "    all_covid_counts_transcripts.append(cov_trans_counter)\n",
    "    \n",
    "    \n",
    "    #### sentences as documents\n",
    "    for sentence in text.split('.'): # note that splitting on periods is not perfect for identifying sentences\n",
    "        \n",
    "        # create sentence covid counter\n",
    "        cov_sen_counter = 0\n",
    "        \n",
    "        ### string cleaning\n",
    "        corpus_sen = sentence.replace('\\xa0', '')\n",
    "        # remove all punctuation    \n",
    "        for c in string.punctuation:\n",
    "            corpus_sen = corpus_sen.replace(c, \"\")\n",
    "        # remove numbers            \n",
    "        corpus_sen = re.sub('\\d+', '', corpus_sen)\n",
    "        # remove whitespaces\n",
    "        corpus_sen = \" \".join(corpus_sen.split())\n",
    "        \n",
    "        # add cleaned sentence to container\n",
    "        text_sentences.append(corpus_sen)\n",
    "        \n",
    "        # add to counter if word in sentence is in covid terms, add count to container\n",
    "        for word in corpus_sen.split(' '):\n",
    "            if word in all_covid_terms:\n",
    "                cov_sen_counter += 1\n",
    "        all_covid_counts_sentences.append(cov_sen_counter) "
   ]
  },
  {
   "cell_type": "code",
   "execution_count": 14,
   "metadata": {},
   "outputs": [
    {
     "name": "stdout",
     "output_type": "stream",
     "text": [
      "There are 458 transcripts that mention COVID at least once.\n"
     ]
    }
   ],
   "source": [
    "# might be too wide, because now all transcripts are included\n",
    "\n",
    "print(\"There are {:,} transcripts that mention COVID at least once.\".format(len(text_transcripts) - all_covid_counts_transcripts.count(0)))"
   ]
  },
  {
   "cell_type": "markdown",
   "metadata": {},
   "source": [
    "## Data Pre-Processing"
   ]
  },
  {
   "cell_type": "markdown",
   "metadata": {},
   "source": [
    "### Spacy Implementation & Removal of Stop Words \n",
    "This analysis is useful if we want more control over the corpus of stop words that are used in our analysis"
   ]
  },
  {
   "cell_type": "code",
   "execution_count": null,
   "metadata": {},
   "outputs": [],
   "source": [
    "#Compare spacy implemtation to the sklearn #loads spacy and turns off some aspects \n",
    "# import spacy\n",
    "# nlp = spacy.load('en_core_web_sm', disable=['ner', 'parser'])"
   ]
  },
  {
   "cell_type": "markdown",
   "metadata": {},
   "source": [
    "## Word-Frequency Analysis\n",
    "\n",
    "### Use CountVectorizer to get the unique vocabulary list and eliminate stop words"
   ]
  },
  {
   "cell_type": "code",
   "execution_count": 10,
   "metadata": {},
   "outputs": [],
   "source": [
    "from sklearn.feature_extraction.text import CountVectorizer\n",
    "from operator import itemgetter"
   ]
  },
  {
   "cell_type": "code",
   "execution_count": 11,
   "metadata": {},
   "outputs": [],
   "source": [
    "# set up count vectorizer function\n",
    "def countvec(text_list):\n",
    "    \n",
    "    # step 1: set up the vectorizer\n",
    "    vectorizer = CountVectorizer(min_df = 30, \n",
    "                                 stop_words = full_stop_words, \n",
    "                                 max_df = 0.8)\n",
    "    \n",
    "    # step 2: apply the vectorizer to the corpus of documents and store in document matrix X\n",
    "    X = vectorizer.fit(text_list)\n",
    "    \n",
    "    # step 3: fit transform corpus of documents\n",
    "    X_transformed = vectorizer.fit_transform(text_list)\n",
    "    \n",
    "    # step 4: extract feature names and counts, create dictionary\n",
    "    array_of_words = vectorizer.get_feature_names() # Lori changed from get_featured_names_out() because her version of library doesn't have that function\n",
    "    array_of_counts = X_transformed.toarray().sum(axis = 0)\n",
    "    word_frequency_dictionary = dict(zip(array_of_words, array_of_counts))\n",
    "    \n",
    "    return(X, X_transformed, array_of_words, array_of_counts, word_frequency_dictionary)"
   ]
  },
  {
   "cell_type": "markdown",
   "metadata": {},
   "source": [
    "## Apply CountVectorizer and Plot Top Words\n",
    "Note: need to double-check how the counts are arrived at - is it by document or number of occurences in a given document?"
   ]
  },
  {
   "cell_type": "markdown",
   "metadata": {},
   "source": [
    "### Full Transcript Set"
   ]
  },
  {
   "cell_type": "code",
   "execution_count": 12,
   "metadata": {},
   "outputs": [],
   "source": [
    "# apply function to full transcript set\n",
    "X_trans, X_transformed_trans, array_of_words_trans, array_of_counts_trans, word_frequency_dictionary_trans = countvec(text_transcripts)"
   ]
  },
  {
   "cell_type": "code",
   "execution_count": 13,
   "metadata": {},
   "outputs": [
    {
     "name": "stdout",
     "output_type": "stream",
     "text": [
      "There are 4,079 unique words in the vocabulary.\n"
     ]
    }
   ],
   "source": [
    "# vocabulary length\n",
    "print(\"There are {:,} unique words in the vocabulary.\".format(len(X_trans.vocabulary_)))"
   ]
  },
  {
   "cell_type": "code",
   "execution_count": 24,
   "metadata": {},
   "outputs": [
    {
     "name": "stdout",
     "output_type": "stream",
     "text": [
      "{'police': 2669, 'thanks': 1802, 'unidentified': 1747, 'crosstalk': 1735, 'administration': 1647, 'kids': 1617, 'school': 1612, 'black': 1605, 'quote': 1566, 'vaccine': 1556}\n"
     ]
    }
   ],
   "source": [
    "# set number of top words to see\n",
    "num_top_words = 10\n",
    "\n",
    "top_10_words = dict(sorted(word_frequency_dictionary_trans.items(), key = itemgetter(1), reverse = True)[:num_top_words])\n",
    "\n",
    "print(top_10_words)"
   ]
  },
  {
   "cell_type": "code",
   "execution_count": 23,
   "metadata": {},
   "outputs": [
    {
     "data": {
      "text/plain": [
       "814"
      ]
     },
     "execution_count": 23,
     "metadata": {},
     "output_type": "execute_result"
    }
   ],
   "source": [
    "#check to see if \"coronavirus\" is in the dictionary, print index value\n",
    "vocab = X_trans.vocabulary_\n",
    "\n",
    "vocab['coronavirus']"
   ]
  },
  {
   "cell_type": "code",
   "execution_count": 25,
   "metadata": {},
   "outputs": [
    {
     "data": {
      "image/png": "[encoded data removed]",
      "text/plain": [
       "<Figure size 576x396 with 1 Axes>"
      ]
     },
     "metadata": {},
     "output_type": "display_data"
    }
   ],
   "source": [
    "# plot top words\n",
    "plt.style.use('seaborn')  \n",
    "\n",
    "x = top_10_words.keys()\n",
    "y = top_10_words.values()\n",
    "plt.bar(x,y)\n",
    "plt.xlabel('Word')\n",
    "plt.xticks(rotation=45)\n",
    "plt.ylabel('Frequency')\n",
    "plt.title('Top 10 Words - All Transcripts')\n",
    "\n",
    "plt.show()"
   ]
  },
  {
   "cell_type": "markdown",
   "metadata": {},
   "source": [
    "### Restricted Transcript Set - Nonzero COVID Mentions"
   ]
  },
  {
   "cell_type": "code",
   "execution_count": 26,
   "metadata": {},
   "outputs": [],
   "source": [
    "# create a restricted transcript list including only transcripts that mention a COVID term at least one\n",
    "text_trans_cov = [text_transcripts[i] for i in range(len(text_transcripts)) if covid_counts_transcripts[i] > 0]"
   ]
  },
  {
   "cell_type": "code",
   "execution_count": 27,
   "metadata": {},
   "outputs": [],
   "source": [
    "# apply function to restricted list\n",
    "X_trans_cov, X_transformed_trans_cov, array_of_words_trans_cov, array_of_counts_trans_cov, word_frequency_dictionary_trans_cov = countvec(text_trans_cov)"
   ]
  },
  {
   "cell_type": "code",
   "execution_count": 28,
   "metadata": {},
   "outputs": [
    {
     "name": "stdout",
     "output_type": "stream",
     "text": [
      "There are 3,915 unique words in the vocabulary.\n"
     ]
    }
   ],
   "source": [
    "# vocabulary length\n",
    "print(\"There are {:,} unique words in the vocabulary.\".format(len(X_trans_cov.vocabulary_)))"
   ]
  },
  {
   "cell_type": "code",
   "execution_count": 29,
   "metadata": {},
   "outputs": [
    {
     "data": {
      "text/plain": [
       "787"
      ]
     },
     "execution_count": 29,
     "metadata": {},
     "output_type": "execute_result"
    }
   ],
   "source": [
    "# check to see if \"coronavirus\" is in the dictionary, print index\n",
    "vocab = X_trans_cov.vocabulary_\n",
    "\n",
    "vocab['coronavirus']"
   ]
  },
  {
   "cell_type": "code",
   "execution_count": 30,
   "metadata": {},
   "outputs": [
    {
     "name": "stdout",
     "output_type": "stream",
     "text": [
      "{'police': 2520, 'thanks': 1704, 'unidentified': 1652, 'crosstalk': 1647, 'school': 1574, 'kids': 1553, 'vaccine': 1552, 'black': 1512, 'quote': 1495, 'china': 1463}\n"
     ]
    }
   ],
   "source": [
    "# set the number of top words\n",
    "num_top_words = 10\n",
    "\n",
    "top_10_words = dict(sorted(word_frequency_dictionary_trans_cov.items(), key = itemgetter(1), reverse = True)[:num_top_words])\n",
    "\n",
    "print(top_10_words)"
   ]
  },
  {
   "cell_type": "code",
   "execution_count": 32,
   "metadata": {},
   "outputs": [
    {
     "data": {
      "image/png": "[encoded data removed]",
      "text/plain": [
       "<Figure size 576x396 with 1 Axes>"
      ]
     },
     "metadata": {},
     "output_type": "display_data"
    }
   ],
   "source": [
    "# plot top words\n",
    "plt.style.use('seaborn')  \n",
    "\n",
    "x = top_10_words.keys()\n",
    "y = top_10_words.values()\n",
    "plt.bar(x,y)\n",
    "plt.xlabel('Word')\n",
    "plt.xticks(rotation=45)\n",
    "plt.ylabel('Frequency')\n",
    "plt.title('Top 10 Words - Transcripts Mentioning COVID Terms')\n",
    "\n",
    "plt.show()"
   ]
  },
  {
   "cell_type": "code",
   "execution_count": 31,
   "metadata": {},
   "outputs": [
    {
     "name": "stdout",
     "output_type": "stream",
     "text": [
      "{'police': 2520, 'thanks': 1704, 'unidentified': 1652, 'crosstalk': 1647, 'school': 1574, 'kids': 1553, 'vaccine': 1552, 'black': 1512, 'quote': 1495, 'china': 1463, 'crime': 1441, 'coronavirus': 1408, 'border': 1378, 'shes': 1371, 'mask': 1364, 'health': 1332, 'children': 1221, 'virus': 1213, 'federal': 1171, 'governor': 1165}\n"
     ]
    }
   ],
   "source": [
    "# Lori expanded number of top words to see if that increased number of COVID terms in results.\n",
    "num_top_words = 20\n",
    "\n",
    "top_20_words = dict(sorted(word_frequency_dictionary_trans_cov.items(), key = itemgetter(1), reverse = True)[:num_top_words])\n",
    "\n",
    "print(top_20_words)"
   ]
  },
  {
   "cell_type": "code",
   "execution_count": 35,
   "metadata": {},
   "outputs": [
    {
     "data": {
      "image/png": "[encoded data removed]",
      "text/plain": [
       "<Figure size 576x396 with 1 Axes>"
      ]
     },
     "metadata": {},
     "output_type": "display_data"
    }
   ],
   "source": [
    "# Lori also plotted top 20 words\n",
    "plt.style.use('seaborn')  \n",
    "\n",
    "x = top_20_words.keys()\n",
    "y = top_20_words.values()\n",
    "plt.bar(x,y)\n",
    "plt.xlabel('Word')\n",
    "plt.xticks(rotation=45)\n",
    "plt.ylabel('Frequency')\n",
    "plt.title('Top 20 Words - Transcripts Mentioning COVID Terms')\n",
    "\n",
    "plt.show()"
   ]
  },
  {
   "cell_type": "markdown",
   "metadata": {},
   "source": [
    "### Full Sentence Set\n",
    "\n",
    "Lori didn't run this part because her computer didn't have enough memory!"
   ]
  },
  {
   "cell_type": "code",
   "execution_count": 14,
   "metadata": {},
   "outputs": [],
   "source": [
    "# apply function to sentences -- Lori getting a memory error because she only has 8 GiB of RAM on her computer: \n",
    "# Unable to allocate 22.2 GiB for an array with shape (525604, 5676) and data type int64\n",
    "X_sen, X_transformed_sen, array_of_words_sen, array_of_counts_sen, word_frequency_dictionary_sen = countvec(text_sentences)"
   ]
  },
  {
   "cell_type": "code",
   "execution_count": 15,
   "metadata": {},
   "outputs": [
    {
     "data": {
      "text/plain": [
       "1076"
      ]
     },
     "execution_count": 15,
     "metadata": {},
     "output_type": "execute_result"
    }
   ],
   "source": [
    "#check to see if \"coronavirus\" is in the dictionary, print index\n",
    "vocab = X_sen.vocabulary_\n",
    "\n",
    "vocab['coronavirus']"
   ]
  },
  {
   "cell_type": "code",
   "execution_count": 16,
   "metadata": {},
   "outputs": [
    {
     "name": "stdout",
     "output_type": "stream",
     "text": [
      "{'know': 18242, 'people': 17763, 'like': 15333, 'going': 15149, 'think': 14988, 'just': 14892, 'thats': 13589, 'dont': 12155, 'right': 12146, 'yes': 8878}\n"
     ]
    }
   ],
   "source": [
    "#set the number of top words to see\n",
    "num_top_words = 10\n",
    "\n",
    "top_10_words = dict(sorted(word_frequency_dictionary_sen.items(), key = itemgetter(1), reverse = True)[:num_top_words])\n",
    "\n",
    "print(top_10_words)"
   ]
  },
  {
   "cell_type": "code",
   "execution_count": 17,
   "metadata": {},
   "outputs": [
    {
     "data": {
      "image/png": "[encoded data removed]",
      "text/plain": [
       "<Figure size 576x396 with 1 Axes>"
      ]
     },
     "metadata": {},
     "output_type": "display_data"
    }
   ],
   "source": [
    "# plot top words\n",
    "plt.style.use('seaborn')  \n",
    "\n",
    "x = top_10_words.keys()\n",
    "y = top_10_words.values()\n",
    "plt.bar(x,y)\n",
    "plt.xlabel('Word')\n",
    "plt.xticks(rotation=45)\n",
    "plt.ylabel('Frequency')\n",
    "plt.title('Top 10 Words - All Sentences')\n",
    "\n",
    "plt.show()"
   ]
  },
  {
   "cell_type": "markdown",
   "metadata": {},
   "source": [
    "### Restricted Sentence Set - Nonzero COVID Mentions"
   ]
  },
  {
   "cell_type": "code",
   "execution_count": 18,
   "metadata": {},
   "outputs": [],
   "source": [
    "# create a restricted transcript list including only transcripts that mention a COVID term at least once\n",
    "text_sen_cov = [text_sentences[i] for i in range(len(text_sentences)) if covid_counts_sentences[i] > 0]"
   ]
  },
  {
   "cell_type": "code",
   "execution_count": 19,
   "metadata": {},
   "outputs": [],
   "source": [
    "# apply function to restricted list\n",
    "X_sen_cov, X_transformed_sen_cov, array_of_words_sen_cov, array_of_counts_sen_cov, word_frequency_dictionary_sen_cov = countvec(text_sen_cov)"
   ]
  },
  {
   "cell_type": "code",
   "execution_count": 20,
   "metadata": {},
   "outputs": [
    {
     "name": "stdout",
     "output_type": "stream",
     "text": [
      "There are 295 unique words in the vocabulary.\n"
     ]
    }
   ],
   "source": [
    "# vocabulary length\n",
    "print(\"There are {:,} unique words in the vocabulary.\".format(len(X_sen_cov.vocabulary_)))"
   ]
  },
  {
   "cell_type": "code",
   "execution_count": 21,
   "metadata": {},
   "outputs": [
    {
     "data": {
      "text/plain": [
       "46"
      ]
     },
     "execution_count": 21,
     "metadata": {},
     "output_type": "execute_result"
    }
   ],
   "source": [
    "# check to see if \"coronavirus\" is in the dictionary, print index\n",
    "vocab = X_sen_cov.vocabulary_\n",
    "\n",
    "vocab['coronavirus']"
   ]
  },
  {
   "cell_type": "code",
   "execution_count": 22,
   "metadata": {},
   "outputs": [
    {
     "name": "stdout",
     "output_type": "stream",
     "text": [
      "{'covid': 2537, 'coronavirus': 1408, 'virus': 1213, 'people': 829, 'know': 481, 'going': 370, 'just': 360, 'new': 318, 'like': 315, 'think': 314}\n"
     ]
    }
   ],
   "source": [
    "# set the number of top words to see\n",
    "num_top_words = 10\n",
    "\n",
    "top_10_words = dict(sorted(word_frequency_dictionary_sen_cov.items(), key = itemgetter(1), reverse = True)[:num_top_words])\n",
    "\n",
    "print(top_10_words)"
   ]
  },
  {
   "cell_type": "code",
   "execution_count": 23,
   "metadata": {},
   "outputs": [
    {
     "data": {
      "image/png": "[encoded data removed]",
      "text/plain": [
       "<Figure size 576x396 with 1 Axes>"
      ]
     },
     "metadata": {},
     "output_type": "display_data"
    }
   ],
   "source": [
    "# plot top words\n",
    "plt.style.use('seaborn')  \n",
    "\n",
    "x = top_10_words.keys()\n",
    "y = top_10_words.values()\n",
    "plt.bar(x,y)\n",
    "plt.xlabel('Word')\n",
    "plt.xticks(rotation=45)\n",
    "plt.ylabel('Frequency')\n",
    "plt.title('Top 10 Words - Sentences Mentioning COVID Terms')\n",
    "\n",
    "plt.show()"
   ]
  },
  {
   "cell_type": "markdown",
   "metadata": {},
   "source": [
    "## Co-Occurence Analysis\n",
    "\n",
    "- Need to do string cleaning. \n",
    "- For now, appearance anywhere in a transcript increases count by 1.\n",
    "- it might make sense to do this with the count vectorizer from above?"
   ]
  },
  {
   "cell_type": "code",
   "execution_count": 24,
   "metadata": {},
   "outputs": [],
   "source": [
    "# import packages\n",
    "from collections import Counter\n",
    "import spacy\n",
    "import numpy as np"
   ]
  },
  {
   "cell_type": "markdown",
   "metadata": {},
   "source": [
    "## Transcript-Level Co-Occurrence"
   ]
  },
  {
   "cell_type": "code",
   "execution_count": 27,
   "metadata": {},
   "outputs": [],
   "source": [
    "nlp = spacy.load('en_core_web_sm', disable = ['parser'])"
   ]
  },
  {
   "cell_type": "code",
   "execution_count": 28,
   "metadata": {},
   "outputs": [
    {
     "name": "stdout",
     "output_type": "stream",
     "text": [
      "Wall time: 14min 6s\n"
     ]
    }
   ],
   "source": [
    "%%time\n",
    "conservative_nlp = [nlp(text) for text in text_transcripts]"
   ]
  },
  {
   "cell_type": "code",
   "execution_count": 31,
   "metadata": {},
   "outputs": [],
   "source": [
    "# create counters\n",
    "lemma_counter = Counter()\n",
    "covid_co_counter = Counter()\n",
    "covid_count = 0\n",
    "mask_co_counter = Counter()\n",
    "mask_count = 0\n",
    "vaccine_co_counter = Counter()\n",
    "vaccine_count = 0\n",
    "\n",
    "# for each document, add unique lemmas to counter\n",
    "# increase co-occurrence and covid counter if covid terms overlap lemma set\n",
    "# same for mask terms, vaccine terms\n",
    "for transcript in conservative_nlp:\n",
    "    lemmas = {token.lemma_.lower() for token in transcript}\n",
    "    lemma_counter.update(lemmas)\n",
    "    if not lemmas.isdisjoint(set(covid_terms)):\n",
    "        covid_co_counter.update(lemmas)\n",
    "        covid_count += 1\n",
    "    if not lemmas.isdisjoint(set(mask_terms)):\n",
    "        mask_co_counter.update(lemmas)\n",
    "        mask_count += 1\n",
    "    if not lemmas.isdisjoint(set(vaccine_terms)):\n",
    "        vaccine_co_counter.update(lemmas)\n",
    "        vaccine_count += 1"
   ]
  },
  {
   "cell_type": "code",
   "execution_count": 33,
   "metadata": {},
   "outputs": [],
   "source": [
    "# calculate COVID terms PMI\n",
    "# P(covid)\n",
    "covid_ratio = covid_count / len(conservative_nlp)\n",
    "\n",
    "# calculate PMI only for words that co-occur\n",
    "pmi_covid = list()\n",
    "for lemma, count in covid_co_counter.items():\n",
    "    \n",
    "    lemma_ratio = lemma_counter[lemma] / len(conservative_nlp) # P(lemma)\n",
    "    co_ratio = covid_co_counter[lemma] / len(conservative_nlp) # P(covid, lemma)\n",
    "    \n",
    "    # store lemma, total lemma count, co-occur count, and PMI\n",
    "    pmi_covid += [(lemma, lemma_counter[lemma], covid_co_counter[lemma], \n",
    "                   np.log2(co_ratio / (covid_ratio * lemma_ratio)))]\n",
    "\n",
    "# sort list of tuples by pmi then by lemma count, descending\n",
    "pmi_covid_sort = sorted(pmi_covid, key = lambda x: [round(x[3], 5), x[1]], reverse = True)"
   ]
  },
  {
   "cell_type": "code",
   "execution_count": null,
   "metadata": {},
   "outputs": [],
   "source": []
  }
 ],
 "metadata": {
  "kernelspec": {
   "display_name": "Python 3",
   "language": "python",
   "name": "python3"
  },
  "language_info": {
   "codemirror_mode": {
    "name": "ipython",
    "version": 3
   },
   "file_extension": ".py",
   "mimetype": "text/x-python",
   "name": "python",
   "nbconvert_exporter": "python",
   "pygments_lexer": "ipython3",
   "version": "3.8.5"
  }
 },
 "nbformat": 4,
 "nbformat_minor": 4
}
