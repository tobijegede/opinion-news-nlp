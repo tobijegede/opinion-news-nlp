{
 "cells": [
  {
   "cell_type": "markdown",
   "metadata": {},
   "source": [
    "# Fox News (Tucker Carlson) Web Scraping"
   ]
  },
  {
   "cell_type": "markdown",
   "metadata": {},
   "source": [
    "All of the transcripts for Tucker Carlson Tonight are stored on one page. It is important to note that the page contains links to other media related to the show - logic is introduced to scrape only the full show transcripts. Given the design of the page, which features a \"show more\" button necessary to expand the number of items visible on the page, Selenium is used for web scraping."
   ]
  },
  {
   "cell_type": "code",
   "execution_count": 1,
   "metadata": {},
   "outputs": [],
   "source": [
    "#importing libraries\n",
    "from selenium import webdriver\n",
    "from selenium.webdriver.common.keys import Keys\n",
    "import pandas as pd\n",
    "import re\n",
    "import os"
   ]
  },
  {
   "cell_type": "markdown",
   "metadata": {},
   "source": [
    "## Connect to Chrome web driver"
   ]
  },
  {
   "cell_type": "code",
   "execution_count": 2,
   "metadata": {},
   "outputs": [],
   "source": [
    "driver = webdriver.Chrome(executable_path=r'C:/Users/lambe/Downloads/chromedriver_win32/chromedriver.exe')"
   ]
  },
  {
   "cell_type": "markdown",
   "metadata": {},
   "source": [
    "## Connect to Tucker Carlson Transcript page and display more results"
   ]
  },
  {
   "cell_type": "code",
   "execution_count": 22,
   "metadata": {},
   "outputs": [],
   "source": [
    "driver.get('https://www.foxnews.com/category/shows/tucker-carlson-tonight/transcript')"
   ]
  },
  {
   "cell_type": "code",
   "execution_count": 23,
   "metadata": {},
   "outputs": [],
   "source": [
    "#Code to click \"show more\" iteratively\n",
    "#Set a counter to limit the number of iterations (otherwise, it will probably run indefinitely)\n",
    "#Takes 5 minutes to run due to the timer in between steps (necessary to avoid overloading the website)\n",
    "\n",
    "import time\n",
    "\n",
    "time.sleep(3)\n",
    "iter_count = 0\n",
    "while iter_count < 75:\n",
    "    try:       \n",
    "        show_more = driver.find_element_by_xpath(\"//div[@class='button load-more js-load-more']\")\n",
    "        show_more.click()\n",
    "        iter_count += 1\n",
    "        time.sleep(3)\n",
    "    except:\n",
    "        break"
   ]
  },
  {
   "cell_type": "code",
   "execution_count": 6,
   "metadata": {},
   "outputs": [],
   "source": [
    "# Code to \"show more\" manually\n",
    "btn = driver.find_element_by_xpath(\"//div[@class='button load-more js-load-more']\") \n",
    "btn.click()"
   ]
  },
  {
   "cell_type": "markdown",
   "metadata": {},
   "source": [
    "## Scrape the list of URLs from the Tucker Carlson Transcript page"
   ]
  },
  {
   "cell_type": "code",
   "execution_count": 24,
   "metadata": {},
   "outputs": [
    {
     "name": "stdout",
     "output_type": "stream",
     "text": [
      "['https://www.foxnews.com/transcript/tucker-why-did-the-russians-do-this', 'https://www.foxnews.com/transcript/tucker-how-is-a-parent-supposed-to-respond-to-this', 'https://www.foxnews.com/transcript/tucker-cory-booker-invented-his-own-identity', 'https://www.foxnews.com/transcript/tucker-no-one-in-the-democratic-party-cares-what-biologists-think-about-biological-sex', 'https://www.foxnews.com/transcript/tucker-bidens-supreme-court-nominee-wont-be-properly-vetted', 'https://www.foxnews.com/transcript/tucker-how-long-can-inflation-continue', 'https://www.foxnews.com/transcript/a-lot-of-covid-regulations-werent-really-about-science', 'https://www.foxnews.com/transcript/tucker-the-pentagons-ukraine-biolab-talking-points-are-an-utter-lie', 'https://www.foxnews.com/transcript/tucker-the-pentagon-is-lying-about-bio-labs-in-ukraine', 'https://www.foxnews.com/transcript/tucker-american-citizens-are-getting-punished', 'https://www.foxnews.com/transcript/tucker-carlson-russia-ukraine-war-is-causing-moral-panic', 'https://www.foxnews.com/transcript/tucker-on-russia-making-gains-in-ukraine', 'https://www.foxnews.com/transcript/tucker-biden-didnt-address-this', 'https://www.foxnews.com/transcript/tucker-this-may-be-the-single-thing-that-unites-this-country', 'https://www.foxnews.com/transcript/gabbard-tells-tucker-this-war-could-have-been-avoided', 'https://www.foxnews.com/transcript/tucker-how-will-this-conflict-affect-you', 'https://www.foxnews.com/transcript/tucker-biden-has-been-played-by-putin', 'https://www.foxnews.com/transcript/tucker-justin-trudeau-is-using-power-to-crush-all-political-opposition', 'https://www.foxnews.com/transcript/tucker-this-is-the-single-most-successful-human-rights-protest-in-a-generation', 'https://www.foxnews.com/transcript/tucker-give-americans-a-voice-in-the-policies-that-affect-their-lives', 'https://www.foxnews.com/transcript/tucker-biden-admin-increasing-hostility-to-crypto-is-hurting-investors', 'https://www.foxnews.com/transcript/tucker-weak-people-call-for-censorship', 'https://www.foxnews.com/transcript/tucker-modern-progressivism-destroys-the-things-its-designed-to-help', 'https://www.foxnews.com/transcript/tucker-what-are-we-getting-for-1-2-trillion', 'https://www.foxnews.com/transcript/tucker-biden-only-talks-about-skin-color', 'https://www.foxnews.com/transcript/tucker-biden-has-enabled-an-ongoing-assault-on-our-national-sovereignty', 'https://www.foxnews.com/transcript/tucker-they-suddenly-care-about-borders', 'https://www.foxnews.com/transcript/tucker-no-one-is-listening-to-joe-biden-anymore', 'https://www.foxnews.com/transcript/tucker-politicians-are-allowing-an-attack-on-civilization', 'https://www.foxnews.com/transcript/tucker-biden-is-giving-the-left-more-power-to-harass-their-political-enemies', 'https://www.foxnews.com/transcript/tucker-here-comes-hillary', 'https://www.foxnews.com/transcript/tucker-biden-deeply-disappointed-in-america', 'https://www.foxnews.com/transcript/tucker-why-are-our-leaders-obsessing-over-this', 'https://www.foxnews.com/transcript/tucker-jan-6-was-not-a-terrorist-attack', 'https://www.foxnews.com/transcript/tucker-the-world-we-live-in-cannot-last', 'https://www.foxnews.com/transcript/tucker-carlson-tonight-bids-farewell-to-de-blasio', 'https://www.foxnews.com/transcript/tucker-carlson-tonight-ghislaine-maxwell-verdict-omicron-insanity', 'https://www.foxnews.com/transcript/tucker-carlson-tonight-on-biden-walking-back-key-campaign-promise', 'https://www.foxnews.com/transcript/watters-why-is-the-white-house-doing-this-to-biden', 'https://www.foxnews.com/transcript/tucker-on-bidens-re-run-depending-on-health', 'https://www.foxnews.com/transcript/tucker-the-democratic-party-is-made-up-of-entitled-white-liberals', 'https://www.foxnews.com/transcript/tucker-the-left-only-cares-about-power', 'https://www.foxnews.com/transcript/tucker-liz-cheney-is-delusional', 'https://www.foxnews.com/transcript/tucker-this-is-impossible-to-ignore', 'https://www.foxnews.com/transcript/tucker-you-cannot-make-these-people-federal-prosecutors', 'https://www.foxnews.com/transcript/tucker-media-needs-to-stop-lying-about-violent-crime', 'https://www.foxnews.com/transcript/tucker-carlson-us-would-gain-nothing-in-confrontation-with-russia', 'https://www.foxnews.com/transcript/tucker-viruses-are-virtually-impossible-to-stop', 'https://www.foxnews.com/transcript/tucker-cnn-suspends-top-anchor-chris-cuomo', 'https://www.foxnews.com/transcript/tucker-joe-bidens-coronavirus-policy-is-not-working', 'https://www.foxnews.com/transcript/tucker-why-are-the-democrats-encouraging-anarchy', 'https://www.foxnews.com/transcript/tucker-kyle-rittenhouse-after-his-acquittal', 'https://www.foxnews.com/transcript/tucker-actions-like-this-threaten-americas-judicial-system', 'https://www.foxnews.com/transcript/tucker-racism-had-nothing-to-do-with-rittenhouse-shooting', 'https://www.foxnews.com/transcript/tucker-kyle-rittenhouse-facts-are-different-than-what-we-were-told', 'https://www.foxnews.com/transcript/tucker-this-american-city-is-in-crisis', 'https://www.foxnews.com/transcript/tucker-u-s-inflation-hits-a-31-year-high', 'https://www.foxnews.com/transcript/tucker-kyle-rittenhouse-takes-the-stand-in-his-own-defense', 'https://www.foxnews.com/transcript/tucker-carlson-reacts-to-kyle-rittenhouse-trial-its-a-disaster', 'https://www.foxnews.com/transcript/tucker-carlson-joe-biden-approval', 'https://www.foxnews.com/transcript/tucker-carlson-tonight-on-bidens-build-back-better-plan', 'https://www.foxnews.com/transcript/tucker-carlson-tonight-on-russia-collusion-narrative', 'https://www.foxnews.com/transcript/tucker-america-is-at-an-inflection-point', 'https://www.foxnews.com/transcript/tucker-virginia-nj-races-may-give-preview-of-tsunami-to-come', 'https://www.foxnews.com/transcript/tucker-virginia-will-choose-a-new-governor-tomorrow', 'https://www.foxnews.com/transcript/tucker-moral-authority-and-relevance-is-long-gone', 'https://www.foxnews.com/transcript/tucker-bidens-more-dangerous-america', 'https://www.foxnews.com/transcript/tucker-biden-administration-targets-blue-collar-workers', 'https://www.foxnews.com/transcript/tucker-biden-not-following-his-own-rules', 'https://www.foxnews.com/transcript/tucker-joe-biden-has-opened-americas-borders-to-the-world', 'https://www.foxnews.com/transcript/tucker-media-silent-now-that-florida-covid-cases-are-down', 'https://www.foxnews.com/transcript/tucker-drugs-continue-to-pour-through-the-border', 'https://www.foxnews.com/transcript/tucker-what-is-the-point-of-having-a-government', 'https://www.foxnews.com/transcript/carlson-cnn-nods-like-livestock-at-bidens-misrepresentation-of-basic-economics', 'https://www.foxnews.com/transcript/tucker-illegal-immigrants', 'https://www.foxnews.com/transcript/tucker-on-inflation-bidens-vaccine-mandates', 'https://www.foxnews.com/transcript/tucker-biden-unvaccinated-americans', 'https://www.foxnews.com/transcript/tucker-wokeism-will-destroy-civilization-as-we-know-it', 'https://www.foxnews.com/transcript/tucker-massive-conflict-with-france-occurring', 'https://www.foxnews.com/transcript/tucker-carlson-tonight-on-justice-department-calls-for-f-b-i-to-crack-down-on-parents-angry-with-school-bo', 'https://www.foxnews.com/transcript/tucker-on-the-parents-role-in-kids-education-left-ideology', 'https://www.foxnews.com/transcript/tucker-carlson-on-the-left-cant-quit-its-fauci-obsession', 'https://www.foxnews.com/transcript/tucker-this-is-the-end-of-biology', 'https://www.foxnews.com/transcript/tucker-australias-corona-tactics-are-a-lesson-to-us-all', 'https://www.foxnews.com/transcript/tucker-these-are-the-moral-priorities-of-the-democrats', 'https://www.foxnews.com/transcript/tucker-milley-is-dishonest-incompetent-and-dishonorable', 'https://www.foxnews.com/transcript/tucker-carlson-the-cult-of-coronavirus-has-become-its-own-religion', 'https://www.foxnews.com/transcript/tucker-unvaccinated-pose-zero-danger-to-vaccinated', 'https://www.foxnews.com/transcript/tucker-carlson-tonight-on-biden-late-night-hosts', 'https://www.foxnews.com/transcript/tucker-biden-punishing-border-patrol-for-enforcing-the-law', 'https://www.foxnews.com/transcript/tucker-on-bidens-border-crisis-fallout-from-vaccine-passports', 'https://www.foxnews.com/transcript/tucker-carlson-military-suicide-is-a-crisis-the-pentagon-should-address', 'https://www.foxnews.com/transcript/tucker-carlson-shreds-biden-admin-over-drone-strike-that-killed-civilians', 'https://www.foxnews.com/transcript/tucker-on-nicki-minajs-covid-controversy-bidens-vaccine-mandates', 'https://www.foxnews.com/transcript/tucker-reveals-how-authoritarianism-is-in-the-us', 'https://www.foxnews.com/transcript/tucker-blasts-bidens-irrational-demands-on-vaccine-mandates', 'https://www.foxnews.com/transcript/tucker-carlson-tonight-on-biden-working-with-the-enemy', 'https://www.foxnews.com/transcript/tucker-carlson-tonight-on-gitmo-prisoners-released-to-taliban', 'https://www.foxnews.com/transcript/jesse-watters-the-biden-admin-no-longer-cares-about-the-rules', 'https://www.foxnews.com/transcript/tucker-carlson-tonight-on-dr-fauci-and-gain-of-function-research-afghanistan-evacuations-after-deadline', 'https://www.foxnews.com/transcript/tucker-pentagon-repeatedly-said-us-was-making-progress-despite-afghanistan-crisis', 'https://www.foxnews.com/transcript/tucker-carlson-tonight-on-texas-abortion-law-hurricane-ida', 'https://www.foxnews.com/transcript/tucker-democrats-are-doing-everything-they-can-to-stay-in-power', 'https://www.foxnews.com/transcript/tucker-whenever-you-think-weve-reached-peak-insanity-biden-doubles-down', 'https://www.foxnews.com/transcript/tucker-american-leaders-need-to-acknowledge-missteps-in-afghanistan', 'https://www.foxnews.com/transcript/tucker-we-dont-know-who-the-afghan-refugees-are', 'https://www.foxnews.com/transcript/tucker-carlson-tonight-on-afghanistan-violence-chaos', 'https://www.foxnews.com/transcript/tucker-slams-oregon-governor-over-nonsensical-mask-mandates', 'https://www.foxnews.com/transcript/tucker-carlson-tonight-on-gavin-newsom-afghanistan', 'https://www.foxnews.com/transcript/tucker-you-dont-need-a-mask-if-youre-a-rich-democrat', 'https://www.foxnews.com/transcript/tucker-top-officials-are-contradicting-biden-in-public', 'https://www.foxnews.com/transcript/tucker-abc-news-appears-to-edit-portions-that-made-biden-look-unpresidential', 'https://www.foxnews.com/transcript/tucker-we-are-living-through-the-biggest-influx-of-refugees-in-history', 'https://www.foxnews.com/transcript/tucker-on-bidens-policies-us-scrambling-to-evacuate-americans-afghan-refugees-amid-taliban-takeover', 'https://www.foxnews.com/transcript/tucker-carlson-tonight-on-bidens-handling-of-afghanistan-collapse', 'https://www.foxnews.com/transcript/tucker-carlson-on-how-taxpayers-have-funded-chaos-in-afghanistan', 'https://www.foxnews.com/transcript/tucker-susan-wojcicki-wants-to-aggressively-censor-people', 'https://www.foxnews.com/transcript/tucker-academic-standards-in-america-are-in-freefall', 'https://www.foxnews.com/transcript/tucker-the-rise-and-fall-of-cuomo', 'https://www.foxnews.com/transcript/tucker-youre-either-sophisticated-or-a-superspreader', 'https://www.foxnews.com/transcript/tucker-carlson-tonight-on-vaccines-hungary-prime-minister-interview', 'https://www.foxnews.com/transcript/tucker-making-someone-pay-to-live-on-your-property-is-now-a-federal-crime', 'https://www.foxnews.com/transcript/tucker-news-organizations-took-money-from-the-chinese-communist-party', 'https://www.foxnews.com/transcript/tucker-the-mainstream-medias-job-is-to-defend-the-ruling-class', 'https://www.foxnews.com/transcript/tucker-democrats-rode-virus-panic-all-the-way-to-the-white-house', 'https://www.foxnews.com/transcript/tucker-politicians-cant-part-with-the-enormous-amount-of-power-they-amassed', 'https://www.foxnews.com/transcript/tucker-americans-should-never-be-forced-to-take-medicine-they-dont-want-period', 'https://www.foxnews.com/transcript/mark-steyn-virtue-signaling-liberals-receive-a-letter', 'https://www.foxnews.com/transcript/tucker-biden-has-lost-control-of-the-southern-border', 'https://www.foxnews.com/transcript/tucker-nancy-pelosi-bans-gop-reps-from-serving-on-the-jan-6-committee', 'https://www.foxnews.com/transcript/tucker-eric-swalwell-has-a-problem-with-money', 'https://www.foxnews.com/transcript/tucker-democrats-claim-that-were-in-a-pandemic-of-the-unvaccinated-is-simply-untrue', 'https://www.foxnews.com/transcript/tucker-why-is-mark-milley-still-in-command-of-us-military', 'https://www.foxnews.com/transcript/tucker-investigates-fulton-county-election-incident', 'https://www.foxnews.com/transcript/tucker-mocks-truly-heroic-texas-democratic-fugitive', 'https://www.foxnews.com/transcript/tucker-biden-administration-deems-censorship-applicable-to-private-speech', 'https://www.foxnews.com/transcript/tucker-the-biden-administration-is-no-longer-pro-choice', 'https://www.foxnews.com/transcript/tucker-over-20-churches-have-been-burned-or-vandalized-in-canada', 'https://www.foxnews.com/transcript/tucker-carlson-tonight-on-critical-race-theory-july-4th', 'https://www.foxnews.com/transcript/tucker-people-in-charge-create-disaster-after-disaster', 'https://www.foxnews.com/transcript/tucker-nycs-board-of-elections-debacle', 'https://www.foxnews.com/transcript/tucker-biden-harris-have-lost-control-of-the-border', 'https://www.foxnews.com/transcript/tucker-democrats-want-to-eliminate-the-suburbs', 'https://www.foxnews.com/transcript/tucker-reacts-to-unclassified-government-ufo-report', 'https://www.foxnews.com/transcript/tucker-its-not-critical-race-theory-its-racism', 'https://www.foxnews.com/transcript/tucker-carlson-tonight-wednesday-june-23', 'https://www.foxnews.com/transcript/tucker-scientists-are-pushing-human-engineering', 'https://www.foxnews.com/transcript/tucker-carlson-on-crime-surge-covid-origins-vaccine-mandate-at-indiana-university', 'https://www.foxnews.com/transcript/tucker-takes-aim-at-militarys-newest-required-reading', 'https://www.foxnews.com/transcript/tucker-lori-lightfoot-doesnt-think-much-about-crime', 'https://www.foxnews.com/transcript/tucker-carlson-tonight-on-revolution-against-woke-universe', 'https://www.foxnews.com/transcript/tucker-violent-crime-skyrockets-in-atlanta-suburb', 'https://www.foxnews.com/transcript/tucker-most-basic-questions-of-civil-liberties-are-in-the-balance', 'https://www.foxnews.com/transcript/tucker-latin-americans-tell-kamala-harris-to-buzz-off', 'https://www.foxnews.com/transcript/tucker-media-treats-kamala-like-a-demi-god', 'https://www.foxnews.com/transcript/tucker-rule-of-law-has-been-suspended-on-the-border', 'https://www.foxnews.com/transcript/tucker-some-within-the-us-government-helped-china-coverup', 'https://www.foxnews.com/transcript/tucker-fauci-deserves-to-be-under-criminal-investigation', 'https://www.foxnews.com/transcript/tucker-we-used-to-spend-a-lot-of-time-worrying-about-scenarios-like-this', 'https://www.foxnews.com/transcript/tucker-the-left-uses-partisan-politics-posing-as-science', 'https://www.foxnews.com/transcript/tucker-carlson-tonight-on-rise-in-crime', 'https://www.foxnews.com/transcript/tucker-why-did-the-white-house-shut-down-ongoing-covid-origin-investigation', 'https://www.foxnews.com/transcript/tucker-fauci-lied-about-the-wuhan-lab-for-more-than-a-year', 'https://www.foxnews.com/transcript/tucker-where-did-the-coronavirus-come-from', 'https://www.foxnews.com/transcript/tucker-equity-is-racism', 'https://www.foxnews.com/transcript/tucker-carlson-on-mask-hypocrisy', 'https://www.foxnews.com/transcript/tucker-pentagon-isnt-doing-anything-about-space-threats', 'https://www.foxnews.com/transcript/tucker-democrats-and-the-media-are-distressed-by-cdcs-new-masks-rules', 'https://www.foxnews.com/transcript/tucker-carlson-on-critical-race-theory-new-cdc-mask-guidance', 'https://www.foxnews.com/transcript/tucker-americans-deserve-to-know-the-real-number-of-migrants-here', 'https://www.foxnews.com/transcript/tucker-carlson-on-covid-vaccine-passports-nyc-mayoral-race-inflation-concerns', 'https://www.foxnews.com/transcript/tucker-bidens-making-a-mess-of-us-economy', 'https://www.foxnews.com/transcript/tucker-why-isnt-dr-fauci-investigated-for-his-role-in-covid-pandemic', 'https://www.foxnews.com/transcript/chris-rufo-discovers-disney-is-forcing-employees-to-comply-with-woke-agenda', 'https://www.foxnews.com/transcript/tucker-why-is-biden-hiding-amount-of-people-coming-across-the-border', 'https://www.foxnews.com/transcript/principal-suspended-for-criticizing-big-tech-joins-tucker-carlson-tonight', 'https://www.foxnews.com/transcript/tucker-everything-biden-has-said-about-georgia-election-law-is-false', 'https://www.foxnews.com/transcript/tucker-biden-raises-your-taxes-while-he-dodges-his-own', 'https://www.foxnews.com/transcript/disabled-farmer-fights-white-house-for-equality', 'https://www.foxnews.com/transcript/tucker-military-takeover-of-washington-meant-to-prop-up-biden', 'https://www.foxnews.com/transcript/tucker-nothing-can-prepare-you-for-new-cia-video', 'https://www.foxnews.com/transcript/tucker-the-key-difference-between-equality-and-equity', 'https://www.foxnews.com/transcript/tucker-politicians-bureaucrats-should-have-no-role-in-deciding-who-gets-vaccinated', 'https://www.foxnews.com/transcript/america-facing-massive-infertility-threat-due-to-falling-sperm-counts', 'https://www.foxnews.com/transcript/tucker-carlson-reacts-to-the-lefts-latest-catchphrase', 'https://www.foxnews.com/transcript/tucker-why-you-probably-dont-recognize-the-republican-party', 'https://www.foxnews.com/transcript/tucker-bank-of-america-secretly-turned-over-customer-data-to-fbi', 'https://www.foxnews.com/transcript/rudy-giuliani-breaks-his-silence-after-fbi-raid-lucky-i-dont-get-frightened-easily', 'https://www.foxnews.com/transcript/glenn-greenwald-on-why-people-are-afraid-to-speak-out-against-us-russia-standoff', 'https://www.foxnews.com/transcript/biden-pick-to-lead-ice-fits-right-in-with-open-border-agenda-former-acting-ice-director', 'https://www.foxnews.com/transcript/cdc-covid-lockdowns-cause-rise-in-deaths-of-despair', 'https://www.foxnews.com/transcript/naomi-wolf-sounds-alarm-at-growing-power-of-autocratic-tyrants', 'https://www.foxnews.com/transcript/san-francisco-deems-taking-washington-lincoln-names-off-schools-high-priority', 'https://www.foxnews.com/transcript/radical-los-angeles-da-accused-of-publicity-stunt-by-professional-org', 'https://www.foxnews.com/transcript/democrat-nyc-lawmaker-slams-new-york-gov-cuomo-he-constantly-lied', 'https://www.foxnews.com/transcript/limbaugh-guest-host-mark-steyn-recalls-rushs-connection-with-his-audience', 'https://www.foxnews.com/transcript/tucker-big-tech-attempting-to-censor-covid-19-vaccine-dissent', 'https://www.foxnews.com/transcript/st-louis-couple-still-facing-charges-over-defending-home-from-protesters', 'https://www.foxnews.com/transcript/dr-siegel-moving-covid-goalposts-replaces-hope-with-despair', 'https://www.foxnews.com/transcript/tucker-biden-immigration-policy-designed-to-punish-americans', 'https://www.foxnews.com/transcript/did-bank-of-america-break-law-by-giving-investigators-customer-data', 'https://www.foxnews.com/transcript/wolf-of-wall-street-lauds-brilliant-revolt-by-retail-investors', 'https://www.foxnews.com/transcript/florida-governor-announces-crackdown-on-big-tech', 'https://www.foxnews.com/transcript/how-the-python-cowboy-plans-to-solve-floridas-snake-problem', 'https://www.foxnews.com/transcript/jason-whitlock-elites-using-race-as-distraction-to-tear-down-america', 'https://www.foxnews.com/transcript/gabbard-democrats-trying-to-turn-america-into-police-state', 'https://www.foxnews.com/transcript/greenwald-democratic-party-the-epitome-of-fascism-they-claim-to-fight', 'https://www.foxnews.com/transcript/cotton-democrats-are-being-sore-winners-ahead-of-biden-inauguration', 'https://www.foxnews.com/transcript/dr-siegel-scientists-gave-biden-administration-coronavirus-tools-to-succeed', 'https://www.foxnews.com/transcript/ryun-americans-arent-even-an-afterthought-to-biden-administration', 'https://www.foxnews.com/transcript/dems-label-anyone-opposed-to-neo-liberalism-an-insurgent', 'https://www.foxnews.com/transcript/what-president-trump-should-do-at-the-second-debate-with-biden', 'https://www.foxnews.com/transcript/tucker-mainstream-media-enraged-by-trumps-positive-covid-message', 'https://www.foxnews.com/transcript/sen-hawley-its-time-to-end-censorship-of-free-speech', 'https://www.foxnews.com/transcript/steve-bannon-on-fraud-charges-theyre-not-gonna-shut-me-down', 'https://www.foxnews.com/transcript/tucker-from-the-beginning-the-covid-pandemic-has-been-shrouded-in-lies', 'https://www.foxnews.com/transcript/la-county-health-official-says-not-to-expect-schools-to-reopen-until-after-the-election', 'https://www.foxnews.com/transcript/tucker-why-silicon-valley-is-doing-all-it-can-to-help-the-biden-harris-ticket', 'https://www.foxnews.com/transcript/tucker-democrats-do-nothing-to-discourage-rage-mobs', 'https://www.foxnews.com/transcript/media-gush-over-joe-bidens-dnc-speech', 'https://www.foxnews.com/transcript/first-criminal-case-arises-from-durham-probe', 'https://www.foxnews.com/transcript/ayaan-hirsi-ali-responds-to-bidens-comments-on-islam', 'https://www.foxnews.com/transcript/glenn-beck-on-democrats-returning-to-russia-collusion-narrative', 'https://www.foxnews.com/transcript/new-jersey-gym-owners-shutdown-is-a-violation-of-our-constitutional-rights', 'https://www.foxnews.com/transcript/alex-berenson-no-evidence-the-first-covid-lockdown-worked', 'https://www.foxnews.com/transcript/alan-dershowitz-joins-tucker-carlson-to-respond-to-accusations-in-unsealed-ghislaine-maxwell-documents', 'https://www.foxnews.com/transcript/delay-the-election-victor-davis-hanson-explains-why-president-trump-doesnt-need-to-alter-the-system', 'https://www.foxnews.com/transcript/jason-rantz-says-some-politicians-media-are-convinced-that-riots-will-be-worth-it-if-trump-loses-in-november', 'https://www.foxnews.com/transcript/retired-navy-pilot-who-spotted-tic-tac-ufo-theres-something-out-there', 'https://www.foxnews.com/transcript/stephen-miller-says-trump-administration-wont-stand-for-lawless-assault-urged-on-by-portlands-mayor', 'https://www.foxnews.com/transcript/trump-discusses-mental-physical-stamina-required-to-be-president-in-exclusive-interview-with-dr-marc-siegel', 'https://www.foxnews.com/transcript/st-louis-homeowner-mark-mccloskey-joins-tucker-after-being-charged-with-felony-for-defending-his-home', 'https://www.foxnews.com/transcript/kanye-moves-forward-with-presidential-bid-files-committee-documents-with-fec', 'https://www.foxnews.com/transcript/janice-dean-slams-gov-cuomos-tone-deaf-victory-lap-on-covid-were-still-mourning', 'https://www.foxnews.com/transcript/robby-soave-says-angry-woke-progressives-have-made-new-york-times-a-toxic-environment', 'https://www.foxnews.com/transcript/mark-mccloskey-reacts-to-police-seizure-of-rifle-from-his-st-louis-home', 'https://www.foxnews.com/transcript/chinese-virologist-accuses-beijing-of-hiding-details-on-coronavirus', 'https://www.foxnews.com/transcript/brit-hume-says-joe-bidens-agenda-takes-the-democratic-party-farther-to-the-left-than-its-ever-been', 'https://www.foxnews.com/transcript/bob-woodson-says-the-left-has-abandoned-all-pretense-of-striving-for-social-justice', 'https://www.foxnews.com/transcript/federal-judge-says-new-york-officials-were-wrong-to-limit-worship-services-while-condoning-protests', 'https://www.foxnews.com/transcript/first-on-tucker-stepmother-of-ex-atlanta-officer-charged-in-rayshard-brooks-killing-fired-from-her-job', 'https://www.foxnews.com/transcript/fauci-says-football-may-not-happen-this-year', 'https://www.foxnews.com/transcript/huge-uptick-in-violence-and-crime-in-new-york-city', 'https://www.foxnews.com/transcript/oxford-university-study-finds-steroid-dexamethasone-improves-covid-19-survival', 'https://www.foxnews.com/transcript/tucker-healthy-societies-do-not-destroy-their-own-history', 'https://www.foxnews.com/transcript/burgess-owens-defends-drew-brees-for-stance-on-kneeling-in-the-nfl', 'https://www.foxnews.com/transcript/fbi-accidentally-reveals-name-of-saudi-official-that-allegedly-directed-support-to-9-11-hijackers', 'https://www.foxnews.com/transcript/tucker-carlson-tonight-obtains-draft-letter-which-would-partially-restore-us-funding-of-who', 'https://www.foxnews.com/transcript/fact-checking-dr-anthony-faucis-statements-on-coronavirus-pandemic', 'https://www.foxnews.com/transcript/swedish-ambassador-to-the-us-on-her-countrys-path-to-herd-immunity-against-the-coronavirus', 'https://www.foxnews.com/transcript/signs-of-improvement-at-new-york-city-hospitals', 'https://www.foxnews.com/transcript/tucker-only-science-will-free-us-from-this-pandemic', 'https://www.foxnews.com/transcript/tucker-despite-unanswered-questions-about-coronavirus-authorities-enacted-dramatic-measures', 'https://www.foxnews.com/transcript/immunologist-says-he-has-a-possible-coronavirus-cure', 'https://www.foxnews.com/transcript/adam-carolla-names-the-biggest-winner-from-the-coronavirus-crisis', 'https://www.foxnews.com/transcript/sen-kelly-loeffler-insists-that-she-has-no-say-in-financial-transactions-for-her-stock-portfolio', 'https://www.foxnews.com/transcript/sen-josh-hawley-says-china-should-be-made-to-foot-the-bill-for-global-suffering-from-coronavirus-pandemic', 'https://www.foxnews.com/transcript/dr-anthony-fauci-tells-tucker-carlson-hes-certain-efforts-to-slow-coronavirus-spread-are-having-an-impact', 'https://www.foxnews.com/transcript/sen-marco-rubio-on-chamber-of-commerces-opposition-to-buy-america-push', 'https://www.foxnews.com/transcript/tucker-media-ignored-early-coronavirus-for-politics', 'https://www.foxnews.com/transcript/pink-floyds-roger-waters-julian-assange-being-used-as-a-warning-to-other-journalists', 'https://www.foxnews.com/transcript/seattle-radio-show-host-says-washingtons-homeless-crisis-could-worsen-states-coronavirus-outbreak', 'https://www.foxnews.com/transcript/gabbard-no-time-for-politics-in-coronavirus-fight', 'https://www.foxnews.com/transcript/biden-claims-150-million-americans-have-been-killed-by-gun-violence-since-2007', 'https://www.foxnews.com/transcript/coronavirus-quarantine-nurse-on-patients-treatment-and-recovery', 'https://www.foxnews.com/transcript/officials-say-its-likely-us-will-have-a-coronavirus-outbreak', 'https://www.foxnews.com/transcript/somali-community-leader-says-ilhan-omar-married-her-brother', 'https://www.foxnews.com/transcript/matthew-whitaker-john-bolton-is-trying-to-stay-relevant-to-push-his-book', 'https://www.foxnews.com/transcript/adam-carolla-comedians-will-bring-pendulum-back-from-being-overly-politically-correct', 'https://www.foxnews.com/transcript/nyc-ads-suggest-not-dating-anyone-conservative', 'https://www.foxnews.com/transcript/virginia-lawmakers-pass-overbearing-gun-control-law', 'https://www.foxnews.com/transcript/breaking-down-who-voted-in-new-hampshire-and-how-they-voted', 'https://www.foxnews.com/transcript/adam-carolla-california-doesnt-care-about-the-homeless-because-they-dont-have-money', 'https://www.foxnews.com/transcript/tucker-new-way-forward-act-would-make-it-nearly-impossible-to-detain-immigrants', 'https://www.foxnews.com/transcript/victor-davis-hanson-says-bernie-sanders-surge-is-a-commentary-on-anemic-democratic-presidential-field', 'https://www.foxnews.com/transcript/whitaker-its-very-clear-the-president-is-going-to-be-acquitted', 'https://www.foxnews.com/transcript/sen-hawley-were-watching-the-democrats-case-fall-apart', 'https://www.foxnews.com/transcript/jeff-sessions-on-bolton-book-we-dont-have-enough-discipline-respect-in-our-government', 'https://www.foxnews.com/transcript/dr-marc-siegel-on-rapid-spread-of-coronavirus', 'https://www.foxnews.com/transcript/goldman-sachs-specializes-in-hypocrisy', 'https://www.foxnews.com/transcript/rep-gaetz-on-impeachment-trial-i-hope-we-get-through-this-national-nightmare-as-fast-as-possible', 'https://www.foxnews.com/transcript/dr-drew-we-have-to-treat-mental-illness-to-fix-homelessness', 'https://www.foxnews.com/transcript/sen-kennedy-on-impeachment-trial-discussion-of-witnesses-is-premature', 'https://www.foxnews.com/transcript/media-ignores-cnn-settlement-with-covington-teen']\n"
     ]
    }
   ],
   "source": [
    "articles = driver.find_elements_by_xpath('//div[@class=\"content article-list\"]//article[@class=\"article\"]//div[@class=\"m\"]//a[@href]')\n",
    "\n",
    "#Scraping the list of URLs to show transcripts\n",
    "\n",
    "url_list = []\n",
    "for x in range(len(articles)):\n",
    "# logic to only pull links to show transcripts (and not the monologue transcipt)\n",
    "    if \"transcript\" in articles[x].get_attribute(\"href\") and \"monologue\" not in articles[x].get_attribute(\"href\"):\n",
    "        url_list.append(articles[x].get_attribute(\"href\"))\n",
    "    \n",
    "print(url_list)\n"
   ]
  },
  {
   "cell_type": "markdown",
   "metadata": {},
   "source": [
    "## Scrape the article dates from the Tucker Carlson Transcript page"
   ]
  },
  {
   "cell_type": "code",
   "execution_count": null,
   "metadata": {},
   "outputs": [],
   "source": [
    "# Scrape the transcript dates\n",
    "transcript_dates = []\n",
    "transcripts = []\n",
    "for x in range(len(url_list)):\n",
    "    driver.get(url_list[x])\n",
    "    date = driver.find_element_by_tag_name(\"time\").text\n",
    "    transcript_text = driver.find_elements_by_class_name(\"speakable\")\n",
    "    transcript_dates.append(date)\n",
    "    transcripts.append(transcript_text[1].text)    "
   ]
  },
  {
   "cell_type": "code",
   "execution_count": 10,
   "metadata": {},
   "outputs": [
    {
     "name": "stdout",
     "output_type": "stream",
     "text": [
      "3\n",
      "3\n"
     ]
    }
   ],
   "source": [
    "# Check that the lengths of the transcript_dates and transcripts lists are the same\n",
    "print(len(transcript_dates))\n",
    "print(len(transcripts))"
   ]
  },
  {
   "cell_type": "code",
   "execution_count": 21,
   "metadata": {},
   "outputs": [
    {
     "name": "stdout",
     "output_type": "stream",
     "text": [
      "tucker_carlson_April_4_2022_transcript.txt\n",
      "tucker_carlson_March_31_2022_transcript.txt\n",
      "tucker_carlson_March_29_2022_transcript.txt\n"
     ]
    }
   ],
   "source": [
    "#write to text files\n",
    "#filename =  \"test\" + \"_\" + \"tucker\" + \"_\" + \"carlson\" + \"_\" + \"transcript.txt\"\n",
    "#repo_path = os.path.dirname(os.getcwd())\n",
    "#output_path = os.path.join(repo_path, \"data\", \"01-raw\", \"tucker_carlson\", filename)\n",
    "\n",
    "#export the file\n",
    "for i in range(len(transcripts)): \n",
    "    transcript_dates[i] = transcript_dates[i].replace(',', '')\n",
    "    filename =  \"tucker\" + \"_\" + \"carlson\" + \"_\" + transcript_dates[i].split()[0] + \"_\" + transcript_dates[i].split()[1] + \"_\" + transcript_dates[i].split()[2] + \"_\" + \"transcript.txt\"\n",
    "    print(filename)\n",
    "    \n",
    "    repo_path = os.path.dirname(os.getcwd())\n",
    "    output_path = os.path.join(repo_path, \"data\", \"01-raw\", \"tucker_carlson\", filename)\n",
    "    \n",
    "    with open(output_path,\"w\") as f:\n",
    "        f.write(transcripts[i])"
   ]
  },
  {
   "cell_type": "code",
   "execution_count": null,
   "metadata": {},
   "outputs": [],
   "source": []
  }
 ],
 "metadata": {
  "kernelspec": {
   "display_name": "Python 3",
   "language": "python",
   "name": "python3"
  },
  "language_info": {
   "codemirror_mode": {
    "name": "ipython",
    "version": 3
   },
   "file_extension": ".py",
   "mimetype": "text/x-python",
   "name": "python",
   "nbconvert_exporter": "python",
   "pygments_lexer": "ipython3",
   "version": "3.8.5"
  }
 },
 "nbformat": 4,
 "nbformat_minor": 4
}
