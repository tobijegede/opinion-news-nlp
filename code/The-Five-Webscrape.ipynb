{
 "cells": [
  {
   "cell_type": "markdown",
   "metadata": {},
   "source": [
    "# The Five Transcript Scrape"
   ]
  },
  {
   "cell_type": "code",
   "execution_count": 1,
   "metadata": {},
   "outputs": [],
   "source": [
    "#importing necessary libraries\n",
    "from selenium import webdriver\n",
    "from selenium.webdriver.chrome.service import Service\n",
    "from selenium.webdriver.common.by import By\n",
    "from selenium.webdriver.common.keys import Keys"
   ]
  },
  {
   "cell_type": "code",
   "execution_count": 2,
   "metadata": {},
   "outputs": [],
   "source": [
    "#store URL\n",
    "the_five_url = 'https://www.foxnews.com/category/shows/the-five/transcript'\n",
    "\n",
    "\n",
    "s = Service(r'C:\\Users\\loriz\\Downloads\\chromedriver_win32\\chromedriver.exe')\n",
    "\n",
    "#get driver\n",
    "driver = webdriver.Chrome(service=s)\n",
    "\n",
    "#call the website\n",
    "driver.get(the_five_url)"
   ]
  },
  {
   "cell_type": "code",
   "execution_count": 3,
   "metadata": {
    "scrolled": true
   },
   "outputs": [],
   "source": [
    "#Code to click \"show more\" iteratively\n",
    "\n",
    "import time\n",
    "\n",
    "time.sleep(5)\n",
    "iter_count = 0\n",
    "while iter_count < 41:\n",
    "    try:       \n",
    "        show_more = driver.find_element(By.XPATH, "//div[@class='button load-more js-load-more']")\n",
    "        show_more.click()\n",
    "        #print(\"Show more button clicked\")\n",
    "        iter_count += 1\n",
    "        time.sleep(5)\n",
    "    except:\n",
    "        #print(\"No more Show more button\")\n",
    "        break"
   ]
  },
  {
   "cell_type": "code",
   "execution_count": 4,
   "metadata": {},
   "outputs": [
    {
     "name": "stdout",
     "output_type": "stream",
     "text": [
      "['https://www.foxnews.com/transcript/the-five-on-disney-controversy-covid-boosters', 'https://www.foxnews.com/transcript/the-five-on-will-smiths-apology-bidens-putin-comment', 'https://www.foxnews.com/transcript/the-five-on-bidens-nato-presser-las-new-strategy-to-deter-crime', 'https://www.foxnews.com/transcript/the-five-on-covid-mandates-ukraine-war-and-nato', 'https://www.foxnews.com/transcript/the-five-on-judge-jacksons-record', 'https://www.foxnews.com/transcript/the-five-on-white-houses-china-call-us-crime-wave', 'https://www.foxnews.com/transcript/the-five-on-ukraine-war-red-lines', 'https://www.foxnews.com/transcript/the-five-on-kamala-harris-in-poland']\n"
     ]
    }
   ],
   "source": [
    "articles = driver.find_elements(By.XPATH,'//div[@class=\"content article-list\"]//article[@class=\"article\"]//div[@class=\"m\"]//a[@href]')\n",
    "\n",
    "#Scraping the list of URLs to show transcripts\n",
    "\n",
    "url_list = []\n",
    "for x in range(len(articles)):\n",
    "    if \"transcript\" in articles[x].get_attribute(\"href\") and \"opinion\" not in articles[x].get_attribute(\"href\"):\n",
    "        url_list.append(articles[x].get_attribute(\"href\"))\n",
    "    \n",
    "print(url_list)"
   ]
  },
  {
   "cell_type": "code",
   "execution_count": 6,
   "metadata": {},
   "outputs": [
    {
     "name": "stdout",
     "output_type": "stream",
     "text": [
      "April 4, 2022 10:15am EDT https://www.foxnews.com/transcript/the-five-on-disney-controversy-covid-boosters\n",
      "March 31, 2022 8:41am EDT https://www.foxnews.com/transcript/the-five-on-will-smiths-apology-bidens-putin-comment\n",
      "March 29, 2022 9:54am EDT https://www.foxnews.com/transcript/the-five-on-bidens-nato-presser-las-new-strategy-to-deter-crime\n",
      "March 24, 2022 3:15pm EDT https://www.foxnews.com/transcript/the-five-on-covid-mandates-ukraine-war-and-nato\n",
      "March 24, 2022 11:07am EDT https://www.foxnews.com/transcript/the-five-on-judge-jacksons-record\n",
      "March 22, 2022 10:07am EDT https://www.foxnews.com/transcript/the-five-on-white-houses-china-call-us-crime-wave\n",
      "March 16, 2022 1:04pm EDT https://www.foxnews.com/transcript/the-five-on-ukraine-war-red-lines\n",
      "March 14, 2022 11:34am EDT https://www.foxnews.com/transcript/the-five-on-kamala-harris-in-poland\n"
     ]
    }
   ],
   "source": [
    "#get transcript dates\n",
    "\n",
    "article_dates = []\n",
    "for x in range(len(url_list)):\n",
    "    driver.get(url_list[x])\n",
    "    d = driver.find_element(By.TAG_NAME, \"time\").text\n",
    "    article_dates.append(d)\n",
    "\n",
    "#save dates and URLs in dictionary\n",
    "dates_urls = dict(zip(article_dates, url_list))\n",
    "\n",
    "for date, url in dates_urls.items():\n",
    "    print(date, url)"
   ]
  },
  {
   "cell_type": "code",
   "execution_count": null,
   "metadata": {},
   "outputs": [],
   "source": [
    "# Still need to fix click button and then pull transcript text"
   ]
  }
 ],
 "metadata": {
  "kernelspec": {
   "display_name": "Python 3",
   "language": "python",
   "name": "python3"
  },
  "language_info": {
   "codemirror_mode": {
    "name": "ipython",
    "version": 3
   },
   "file_extension": ".py",
   "mimetype": "text/x-python",
   "name": "python",
   "nbconvert_exporter": "python",
   "pygments_lexer": "ipython3",
   "version": "3.7.6"
  }
 },
 "nbformat": 4,
 "nbformat_minor": 4
}
