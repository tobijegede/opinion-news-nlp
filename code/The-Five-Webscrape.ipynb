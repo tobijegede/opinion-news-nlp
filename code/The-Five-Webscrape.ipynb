{
 "cells": [
  {
   "cell_type": "markdown",
   "metadata": {},
   "source": [
    "# The Five Transcript Scrape"
   ]
  },
  {
   "cell_type": "code",
   "execution_count": 1,
   "metadata": {},
   "outputs": [
    {
     "name": "stderr",
     "output_type": "stream",
     "text": [
      "C:\\Users\\loriz\\anaconda3\\lib\\site-packages\\requests\\__init__.py:91: RequestsDependencyWarning: urllib3 (1.26.9) or chardet (3.0.4) doesn't match a supported version!\n",
      "  RequestsDependencyWarning)\n"
     ]
    }
   ],
   "source": [
    "import requests\n",
    "from bs4 import BeautifulSoup"
   ]
  },
  {
   "cell_type": "code",
   "execution_count": 2,
   "metadata": {},
   "outputs": [],
   "source": [
    "#store URL\n",
    "\n",
    "the_five_url = 'https://www.foxnews.com/category/shows/the-five/transcript'\n",
    "\n",
    "the_five_main_page = requests.get(the_five_url)\n",
    "\n",
    "soup = BeautifulSoup(the_five_main_page.content, 'html.parser')"
   ]
  },
  {
   "cell_type": "code",
   "execution_count": 3,
   "metadata": {
    "scrolled": true
   },
   "outputs": [
    {
     "name": "stdout",
     "output_type": "stream",
     "text": [
      "<div class=\"content article-list\">\n",
      " <article class=\"article\">\n",
      "  <div class=\"m\">\n",
      "   <a href=\"/transcript/the-five-on-will-smiths-apology-bidens-putin-comment\">\n",
      "    <img alt=\"'The Five' on Will Smith's apology, Biden's Putin comment\" src=\"https://a57.foxnews.com/cf-images.us-east-1.prod.boltdns.net/v1/static/694940094001/ff6df457-ba21-46fb-8f49-224223c38101/6848d6ae-9953-4bc4-82c9-044b496e0779/1280x720/match/348/196/image.jpg?ve=1&amp;tl=1\"/>\n",
      "   </a>\n",
      "   <!-- -->\n",
      "  </div>\n",
      "  <div class=\"info\">\n",
      "   <header class=\"info-header\">\n",
      "    <div class=\"meta\">\n",
      "     <!-- -->\n",
      "     <div>\n",
      "      <span class=\"eyebro\n"
     ]
    }
   ],
   "source": [
    "#<div class=\"content article-list\">\n",
    "\n",
    "#extract the page content with transcript info\n",
    "content_list = soup.find(class_ = 'content article-list')\n",
    "\n",
    "print(content_list.prettify()[:600]) \n"
   ]
  },
  {
   "cell_type": "code",
   "execution_count": 4,
   "metadata": {},
   "outputs": [],
   "source": [
    "#get iterable list of transcript link names\n",
    "\n",
    "transcript_cards = content_list.find_all('div', class_ = 'm')"
   ]
  },
  {
   "cell_type": "code",
   "execution_count": 5,
   "metadata": {},
   "outputs": [
    {
     "name": "stdout",
     "output_type": "stream",
     "text": [
      "<div class=\"m\"><a href=\"/transcript/the-five-on-will-smiths-apology-bidens-putin-comment\"><img alt=\"'The Five' on Will Smith's apology, Biden's Putin comment\" src=\"https://a57.foxnews.com/cf-images.us-east-1.prod.boltdns.net/v1/static/694940094001/ff6df457-ba21-46fb-8f49-224223c38101/6848d6ae-9953-4bc4-82c9-044b496e0779/1280x720/match/348/196/image.jpg?ve=1&amp;tl=1\"/></a> <!-- --></div>\n",
      "\n",
      "<div class=\"m\"><a href=\"/transcript/the-five-on-bidens-nato-presser-las-new-strategy-to-deter-crime\"><img alt=\"'The Five' on Biden's NATO presser, LA's new strategy to deter crime\" src=\"https://a57.foxnews.com/cf-images.us-east-1.prod.boltdns.net/v1/static/694940094001/62727350-9c67-4f67-9e3c-6690598a6a17/eb3b517e-dc3e-4fa0-b14d-2ef4cc7f7947/1280x720/match/348/196/image.jpg?ve=1&amp;tl=1\"/></a> <!-- --></div>\n",
      "\n",
      "<div class=\"m\"><a href=\"/transcript/the-five-on-covid-mandates-ukraine-war-and-nato\"><img alt=\"'The Five' on COVID mandates, Ukraine war and NATO\" src=\"https://a57.foxnews.com/cf-images.us-east-1.prod.boltdns.net/v1/static/694940094001/c4975b47-a35a-450d-a34a-ed51b48565cb/ec1a6550-f622-4e07-9d6c-ec63d2932c73/1280x720/match/348/196/image.jpg?ve=1&amp;tl=1\"/></a> <!-- --></div>\n",
      "\n",
      "<div class=\"m\"><a href=\"/transcript/the-five-on-judge-jacksons-record\"><img alt=\"'The Five' on Judge Jackson's record\" src=\"https://a57.foxnews.com/cf-images.us-east-1.prod.boltdns.net/v1/static/694940094001/cac17eba-12c6-4393-bf87-d4145a23f266/1de6631f-778f-46d3-957c-dbbbbf5dc91c/1280x720/match/348/196/image.jpg?ve=1&amp;tl=1\"/></a> <!-- --></div>\n",
      "\n",
      "<div class=\"m\"><a href=\"/transcript/the-five-on-white-houses-china-call-us-crime-wave\"><img alt=\"'The Five' on White House's China call, US crime wave\" src=\"https://a57.foxnews.com/cf-images.us-east-1.prod.boltdns.net/v1/static/694940094001/be37b0d6-291b-4083-907f-42156e586479/f738440a-7e5a-4513-9f33-ab9975f9c0fc/1280x720/match/348/196/image.jpg?ve=1&amp;tl=1\"/></a> <!-- --></div>\n",
      "\n",
      "<div class=\"m\"><a href=\"/opinion/greg-gutfeld-war-ukraine-reveals-truth-news\"><img alt=\"Greg Gutfeld: The war in Ukraine reveals an old truth about news - if it bleeds it leads\" src=\"https://a57.foxnews.com/cf-images.us-east-1.prod.boltdns.net/v1/static/694940094001/d77da077-e1fb-4a8c-b21a-2271c8bf09c0/7daaa27c-cd50-4664-ad67-d7fe4873778f/1280x720/match/348/196/image.jpg?ve=1&amp;tl=1\"/></a> <!-- --></div>\n",
      "\n",
      "<div class=\"m\"><a href=\"/transcript/the-five-on-ukraine-war-red-lines\"><img alt=\"'The Five' on Ukraine war red lines\" src=\"https://a57.foxnews.com/cf-images.us-east-1.prod.boltdns.net/v1/static/694940094001/1aa6d529-1eed-46c6-a0e6-465bffff9873/e33b46db-ddbd-4f53-9208-e32846a5cb6b/1280x720/match/348/196/image.jpg?ve=1&amp;tl=1\"/></a> <!-- --></div>\n",
      "\n",
      "<div class=\"m\"><a href=\"/opinion/greg-gutfeld-russia-ukraine-competing-narratives\"><img alt=\"Greg Gutfeld: The Russia-Ukraine war is also a war between competing narratives\" src=\"https://a57.foxnews.com/cf-images.us-east-1.prod.boltdns.net/v1/static/694940094001/79154768-3c02-47a3-8e0e-5f2dfdf8e9c9/f5a7d2c1-6ee3-45b0-97d8-fb40524183e6/1280x720/match/348/196/image.jpg?ve=1&amp;tl=1\"/></a> <!-- --></div>\n",
      "\n",
      "<div class=\"m\"><a href=\"/transcript/the-five-on-kamala-harris-in-poland\"><img alt=\"'The Five' on Kamala Harris in Poland\" src=\"https://a57.foxnews.com/cf-images.us-east-1.prod.boltdns.net/v1/static/694940094001/ec67523b-7820-4c83-ba9d-2043be4de3f6/650728bb-613b-4f5d-bb72-d3df5e4ec77c/1280x720/match/348/196/image.jpg?ve=1&amp;tl=1\"/></a> <!-- --></div>\n",
      "\n",
      "<div class=\"m\"><a href=\"/transcript/the-five-on-rising-gas-prices\"><img alt=\"'The Five' on rising gas prices\" src=\"https://a57.foxnews.com/cf-images.us-east-1.prod.boltdns.net/v1/static/694940094001/ce69ec34-8bd1-4610-96c3-6e7f522fe957/df20144d-e095-40c7-a0dd-7bb4d259662e/1280x720/match/348/196/image.jpg?ve=1&amp;tl=1\"/></a> <!-- --></div>\n",
      "\n"
     ]
    }
   ],
   "source": [
    "for card in transcript_cards[:10]:\n",
    "    print(card, end = '\\n' * 2)"
   ]
  },
  {
   "cell_type": "code",
   "execution_count": 6,
   "metadata": {},
   "outputs": [
    {
     "name": "stdout",
     "output_type": "stream",
     "text": [
      "/transcript/the-five-on-will-smiths-apology-bidens-putin-comment\n",
      "/transcript/the-five-on-bidens-nato-presser-las-new-strategy-to-deter-crime\n",
      "/transcript/the-five-on-covid-mandates-ukraine-war-and-nato\n",
      "/transcript/the-five-on-judge-jacksons-record\n",
      "/transcript/the-five-on-white-houses-china-call-us-crime-wave\n",
      "/opinion/greg-gutfeld-war-ukraine-reveals-truth-news\n",
      "/transcript/the-five-on-ukraine-war-red-lines\n",
      "/opinion/greg-gutfeld-russia-ukraine-competing-narratives\n",
      "/transcript/the-five-on-kamala-harris-in-poland\n",
      "/transcript/the-five-on-rising-gas-prices\n"
     ]
    }
   ],
   "source": [
    "#create list of transcript URLs\n",
    "url_info = []\n",
    "\n",
    "#iterate through the transcript cards to get webpage links\n",
    "for card in transcript_cards:\n",
    "    transcript_url = card.find(\"a\")[\"href\"] \n",
    "    url_info.append(transcript_url)\n",
    "    \n",
    "for url in url_info[:10]:\n",
    "    print(url)"
   ]
  },
  {
   "cell_type": "code",
   "execution_count": 7,
   "metadata": {},
   "outputs": [
    {
     "name": "stdout",
     "output_type": "stream",
     "text": [
      "https://www.foxnews.com/transcript/the-five-on-will-smiths-apology-bidens-putin-comment\n",
      "https://www.foxnews.com/transcript/the-five-on-bidens-nato-presser-las-new-strategy-to-deter-crime\n",
      "https://www.foxnews.com/transcript/the-five-on-covid-mandates-ukraine-war-and-nato\n",
      "https://www.foxnews.com/transcript/the-five-on-judge-jacksons-record\n",
      "https://www.foxnews.com/transcript/the-five-on-white-houses-china-call-us-crime-wave\n",
      "https://www.foxnews.com/transcript/the-five-on-ukraine-war-red-lines\n",
      "https://www.foxnews.com/transcript/the-five-on-kamala-harris-in-poland\n",
      "https://www.foxnews.com/transcript/the-five-on-rising-gas-prices\n"
     ]
    }
   ],
   "source": [
    "#Create full URLs and remove URLs that are opinions, not transcripts.\n",
    "\n",
    "import re\n",
    "\n",
    "pattern = '/transcript/'\n",
    "transcript_url = []\n",
    "for url in url_info:\n",
    "        if re.search(pattern, url) != None:\n",
    "            full_url = 'https://www.foxnews.com'+url\n",
    "            transcript_url.append(full_url)\n",
    "\n",
    "for i in transcript_url:\n",
    "    print(i)\n"
   ]
  },
  {
   "cell_type": "code",
   "execution_count": 8,
   "metadata": {},
   "outputs": [
    {
     "name": "stdout",
     "output_type": "stream",
     "text": [
      " March 31, 2022 8:41am \n",
      " March 29, 2022 9:54am \n",
      " March 24, 2022 3:15pm \n",
      " March 24, 2022 11:07am \n",
      " March 22, 2022 10:07am \n",
      " March 16, 2022 1:04pm \n",
      " March 14, 2022 11:34am \n",
      " March 14, 2022 11:25am \n"
     ]
    }
   ],
   "source": [
    "#pull dates for each transcript\n",
    "dates_raw = []\n",
    "pattern1 = r'^<time>'\n",
    "pattern2 = r'</time>$'\n",
    "for url in transcript_url:\n",
    "    show_page = requests.get(url)\n",
    "\n",
    "    show_soup =  BeautifulSoup(show_page.content, \"html.parser\")\n",
    "\n",
    "    transcript_date = show_soup.find(class_=\"article-date\")\n",
    "    #print(transcript_date)\n",
    "    for i in transcript_date:\n",
    "        if re.search(pattern1, str(i)) != None:\n",
    "            if re.search(pattern2, str(i)) != None:\n",
    "                dates_raw.append(i)\n",
    "\n",
    "#print(dates_raw)\n",
    "\n",
    "dates = []\n",
    "\n",
    "for date in dates_raw:\n",
    "    date = str(date)\n",
    "    dates.append(date[6:-10])\n",
    "\n",
    "\n",
    "for i in dates:\n",
    "    print(i)\n",
    "\n",
    "    "
   ]
  },
  {
   "cell_type": "code",
   "execution_count": 9,
   "metadata": {},
   "outputs": [
    {
     "name": "stdout",
     "output_type": "stream",
     "text": [
      " March 31, 2022 8:41am : https://www.foxnews.com/transcript/the-five-on-will-smiths-apology-bidens-putin-comment\n",
      " March 29, 2022 9:54am : https://www.foxnews.com/transcript/the-five-on-bidens-nato-presser-las-new-strategy-to-deter-crime\n",
      " March 24, 2022 3:15pm : https://www.foxnews.com/transcript/the-five-on-covid-mandates-ukraine-war-and-nato\n",
      " March 24, 2022 11:07am : https://www.foxnews.com/transcript/the-five-on-judge-jacksons-record\n",
      " March 22, 2022 10:07am : https://www.foxnews.com/transcript/the-five-on-white-houses-china-call-us-crime-wave\n",
      " March 16, 2022 1:04pm : https://www.foxnews.com/transcript/the-five-on-ukraine-war-red-lines\n",
      " March 14, 2022 11:34am : https://www.foxnews.com/transcript/the-five-on-kamala-harris-in-poland\n",
      " March 14, 2022 11:25am : https://www.foxnews.com/transcript/the-five-on-rising-gas-prices\n"
     ]
    }
   ],
   "source": [
    "#convert date and transcript to a dictionary\n",
    "dates_transcripts = dict(zip(dates, transcript_url))\n",
    "\n",
    "for date, trans in dates_transcripts.items():\n",
    "    print(date+':', trans)"
   ]
  },
  {
   "cell_type": "code",
   "execution_count": 10,
   "metadata": {},
   "outputs": [],
   "source": [
    "#get show transcript from webpage\n",
    "\n",
    "for date, url in dates_transcripts.items():\n",
    "    show_page = requests.get(url)\n",
    "\n",
    "    #convert the page into a soup object\n",
    "    show_soup =  BeautifulSoup(show_page.content, 'html.parser')\n",
    "\n",
    "    transcript = show_soup.find(class_ = 'article-body').text\n",
    "    \n",
    "    #add the transcript text to the dictionary\n",
    "    dates_transcripts[date] = {url: transcript}\n",
    "    #print(date, '\\n', url, '\\n', transcript)"
   ]
  }
 ],
 "metadata": {
  "kernelspec": {
   "display_name": "Python 3",
   "language": "python",
   "name": "python3"
  },
  "language_info": {
   "codemirror_mode": {
    "name": "ipython",
    "version": 3
   },
   "file_extension": ".py",
   "mimetype": "text/x-python",
   "name": "python",
   "nbconvert_exporter": "python",
   "pygments_lexer": "ipython3",
   "version": "3.7.6"
  }
 },
 "nbformat": 4,
 "nbformat_minor": 4
}
