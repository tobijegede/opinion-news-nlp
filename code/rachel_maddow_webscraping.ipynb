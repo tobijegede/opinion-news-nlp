{
 "cells": [
  {
   "cell_type": "code",
   "execution_count": 1,
   "metadata": {},
   "outputs": [],
   "source": [
    "#import required libraries\n",
    "import requests\n",
    "from bs4 import BeautifulSoup\n",
    "import os"
   ]
  },
  {
   "cell_type": "markdown",
   "metadata": {},
   "source": [
    "# MSNBC Web-Scraping"
   ]
  },
  {
   "cell_type": "markdown",
   "metadata": {},
   "source": [
    "## Step 1: Get the data from the home page of the transcripts website\n",
    "- get a list of the dates across the entire dataset\n",
    "- create a list and just iterate through the list and append the dataset to get \n",
    "\n",
    "Source on web-scraping: https://realpython.com/beautiful-soup-web-scraper-python/#step-3-parse-html-code-with-beautiful-soup \n"
   ]
  },
  {
   "cell_type": "markdown",
   "metadata": {},
   "source": [
    "## Get to the website and convert to a soup object"
   ]
  },
  {
   "cell_type": "code",
   "execution_count": 2,
   "metadata": {},
   "outputs": [],
   "source": [
    "#step 1: store the URL\n",
    "rachel_maddow_URL = \"https://www.msnbc.com/transcripts/show/rachel-maddow-show\"\n",
    "\n",
    "#step 2: get to the landing page of the website\n",
    "landing_page = requests.get(rachel_maddow_URL)\n",
    "\n",
    "#step 3: convert page into html\n",
    "soup = BeautifulSoup(landing_page.content, \"html.parser\")\n",
    "\n",
    "#below is a potential alternative additional link to look at/start with\n",
    "# all show transcripts from 3/1/2020 to 3/31/2022\n",
    "#https://www.msnbc.com/transcripts/show/rachel-maddow-show?dateRange=2020-03-01+TO+2022-03-31"
   ]
  },
  {
   "cell_type": "markdown",
   "metadata": {},
   "source": [
    "## Get the Transript Feed (A collection of individual transcript cards)"
   ]
  },
  {
   "cell_type": "code",
   "execution_count": 3,
   "metadata": {},
   "outputs": [
    {
     "name": "stdout",
     "output_type": "stream",
     "text": [
      "<div class=\"transcripts-feed\">\n",
      " <div class=\"transcript-card\">\n",
      "  <div class=\"transcript-card__air-date\">\n",
      "   Mar 16 2022\n",
      "  </div>\n",
      "  <div class=\"transcript-card__details\">\n",
      "   <a class=\"transcript-card__show-name\" href=\"https://www.msnbc.com/transcripts/rachel-maddow-show/transcript-rachel-maddow-show-3-15-22-n1292030\">\n",
      "    The Rachel Maddow Show\n",
      "   </a>\n",
      "   <a class=\"transcript-card__headline\" href=\"https://www.msnbc.com/transcripts/rachel-maddow-show/transcript-rachel-maddow-show-3-15-22-n1292030\">\n"
     ]
    }
   ],
   "source": [
    "#<div class=\"transcripts-page\">\n",
    "#<div class=\"transcripts-feed\">\n",
    "\n",
    "#step 4: extract the transcript feed page part of the soup\n",
    "transcript_feed = soup.find(class_=\"transcripts-feed\")\n",
    "\n",
    "#print out example of the html output that is contained in transcript feed\n",
    "print(transcript_feed.prettify()[:500])\n"
   ]
  },
  {
   "cell_type": "markdown",
   "metadata": {},
   "source": [
    "## Extract Individual Transcript Cards "
   ]
  },
  {
   "cell_type": "code",
   "execution_count": 4,
   "metadata": {},
   "outputs": [],
   "source": [
    "#step 5: get all of the transcript cards -- creates an object that is iterable to look at\n",
    "transcript_cards = transcript_feed.find_all(\"div\", class_ =\"transcript-card\")"
   ]
  },
  {
   "cell_type": "code",
   "execution_count": 6,
   "metadata": {},
   "outputs": [
    {
     "name": "stdout",
     "output_type": "stream",
     "text": [
      "<div class=\"transcript-card\"><div class=\"transcript-card__air-date\">Mar 16 2022</div><div class=\"transcript-card__details\"><a class=\"transcript-card__show-name\" href=\"https://www.msnbc.com/transcripts/rachel-maddow-show/transcript-rachel-maddow-show-3-15-22-n1292030\">The Rachel Maddow Show</a><a class=\"transcript-card__headline\" href=\"https://www.msnbc.com/transcripts/rachel-maddow-show/transcript-rachel-maddow-show-3-15-22-n1292030\">Transcript: The Rachel Maddow Show, 3/15/22</a><span class=\"transcript-card__guests\"><span class=\"\">Guests: Serhiy Leshchenko, Amy Klobuchar, Alexander Goncharov</span></span></div></div>\n",
      "\n",
      "<div class=\"transcript-card\"><div class=\"transcript-card__air-date\">Mar 15 2022</div><div class=\"transcript-card__details\"><a class=\"transcript-card__show-name\" href=\"https://www.msnbc.com/transcripts/rachel-maddow-show/transcript-rachel-maddow-show-3-14-22-n1292021\">The Rachel Maddow Show</a><a class=\"transcript-card__headline\" href=\"https://www.msnbc.com/transcripts/rachel-maddow-show/transcript-rachel-maddow-show-3-14-22-n1292021\">Transcript: The Rachel Maddow Show, 3/14/22</a><span class=\"transcript-card__guests\"><span class=\"\">Guests: Alex Goncharenko, James Stavridis, Anna Pereguda</span></span></div></div>\n",
      "\n"
     ]
    }
   ],
   "source": [
    "#step 6: display the results of the above\n",
    "for card in transcript_cards[:2]:\n",
    "    print(card, end=\"\\n\"*2)"
   ]
  },
  {
   "cell_type": "markdown",
   "metadata": {},
   "source": [
    "## Extract Air Date, Transcript URL, & Guests From Each Transcript Card"
   ]
  },
  {
   "cell_type": "code",
   "execution_count": 30,
   "metadata": {},
   "outputs": [
    {
     "name": "stdout",
     "output_type": "stream",
     "text": [
      "{'Mar 16 2022': {'transcript_url': 'https://www.msnbc.com/transcripts/rachel-maddow-show/transcript-rachel-maddow-show-3-15-22-n1292030', 'guests': ['Serhiy Leshchenko', ' Amy Klobuchar', ' Alexander Goncharov']}}\n"
     ]
    }
   ],
   "source": [
    "#create the nested dictionary to hold the results (transcript url, guest, and text of the show)\n",
    "transcript_info = {} #key = air date, value is a dictionary with the (transcript url, guest, and text of the show)\n",
    "\n",
    "#iterate through the transcript cards & extract information\n",
    "for card in transcript_cards[:1]:\n",
    "    air_date = card.find(\"div\", class_=\"transcript-card__air-date\").text\n",
    "    transcript_url = card.find(\"a\", class_=\"transcript-card__show-name\")[\"href\"] #get the link for the website\n",
    "    guests = card.find(\"span\", class_=\"transcript-card__guests\").text[8:].split(\",\")#removes a \"guests:\" tag from in front of the list of guests \n",
    "\n",
    "    transcript_info[air_date] = {\"transcript_url\": transcript_url,\n",
    "                                 \"guests\": guests }\n",
    "    \n",
    "print(transcript_info)"
   ]
  },
  {
   "cell_type": "markdown",
   "metadata": {},
   "source": [
    "## Now, iterate through all of the transcript info to add in the actual text of the transcripts"
   ]
  },
  {
   "cell_type": "code",
   "execution_count": 44,
   "metadata": {},
   "outputs": [
    {
     "name": "stdout",
     "output_type": "stream",
     "text": [
      "https://www.msnbc.com/transcripts/rachel-maddow-show/transcript-rachel-maddow-show-3-15-22-n1292030\n"
     ]
    }
   ],
   "source": [
    "# #create a list of the air dates\n",
    "# air_dates = list(transcript_info.keys())\n",
    "# #print(air_dates[0])\n",
    "\n",
    "# transcript_info[air_dates[0]][\"transcript_url\"]\n",
    "\n",
    "for air_date in list(transcript_info.keys()):\n",
    "\n",
    "    #get needed information:\n",
    "    show_url = transcript_info[air_date][\"transcript_url\"]\n",
    "    print(show_url)\n",
    "    \n",
    "\n",
    "    #go to the url\n",
    "    show_page = requests.get(show_url)\n",
    "\n",
    "    #convert the page into a soup object\n",
    "    show_soup =  BeautifulSoup(show_page.content, \"html.parser\")\n",
    "\n",
    "\n",
    "    #get the content of the transcript = <div class=\"article-body__content\">\n",
    "\n",
    "    #extract the transcript feed page part of the soup\n",
    "    transcript_text = show_soup.find(class_=\"article-body__content\").text\n",
    "\n",
    "    #add the transcript text to the dictionary\n",
    "    transcript_info[air_date][\"transcript_text\"] = transcript_text\n",
    "\n",
    "    \n",
    "\n",
    "    \n",
    "\n"
   ]
  },
  {
   "cell_type": "markdown",
   "metadata": {},
   "source": [
    "# Export the text of the transcript file"
   ]
  },
  {
   "cell_type": "code",
   "execution_count": 58,
   "metadata": {},
   "outputs": [
    {
     "name": "stdout",
     "output_type": "stream",
     "text": [
      "/Users/tobijegede/Documents/GitHub/opinion-news-nlp/data/01-raw/rachel_maddow/Mar_16_2022_rachel_maddow_transcript.txt\n"
     ]
    }
   ],
   "source": [
    "#export the file\n",
    "for air_date in transcript_info:\n",
    "\n",
    "    #extract the text from the transcripts\n",
    "    text = transcript_info[air_date][\"transcript_text\"]\n",
    "\n",
    "    #create a file name + output file path\n",
    "    list_air_date = air_date.split()\n",
    "    \n",
    "    \n",
    "    filename = list_air_date[0] + \"_\" + list_air_date[1] + \"_\" + list_air_date[2] + \"_\" + \"rachel\" + \"_\" + \"maddow\" + \"_\" + \"transcript.txt\"\n",
    "    repo_path = os.path.dirname(os.getcwd())\n",
    "    output_path = os.path.join(repo_path, \"data\", \"01-raw\", \"rachel_maddow\", filename)\n",
    "\n",
    "    print(output_path)\n",
    "\n",
    "    #export the file\n",
    "    with open(output_path,\"w\") as f:\n",
    "        f.write(text)\n",
    "    "
   ]
  },
  {
   "cell_type": "code",
   "execution_count": 12,
   "metadata": {},
   "outputs": [
    {
     "data": {
      "text/plain": [
       "'\\nKey Components of HTML output:\\nEach entry = a \"transcript card\"\\nNote: the transcript feed is made up of many transcript cards\\n\\nTranscript Card (<div class=\"transcript-card\">)\\n    Air Date: <div class=\"transcript-card__air-date\">\\n    Transcript Card Details:  <div class=\"transcript-card__details\">\\n        Show Name: <a class=\"transcript-card__show-name\" href=\"https://www.msnbc.com/transcripts/rachel-maddow-show/transcript-rachel-maddow-show-3-15-22-n1292030\">The Rachel Maddow Show</a>\\n        Headline: <a class=\"transcript-card__headline\" href=\"https://www.msnbc.com/transcripts/rachel-maddow-show/transcript-rachel-maddow-show-3-15-22-n1292030\">Transcript: The Rachel Maddow Show, 3/15/22</a> \\n        Guests: <span class=\"transcript-card__guests\"><span class=\"\">Guests: Serhiy Leshchenko, Amy Klobuchar, Alexander Goncharov</span></span></div></div>\\n\\n\\n\\n\\n'"
      ]
     },
     "execution_count": 12,
     "metadata": {},
     "output_type": "execute_result"
    }
   ],
   "source": [
    "'''\n",
    "Key Components of HTML output:\n",
    "Each entry = a \"transcript card\"\n",
    "Note: the transcript feed is made up of many transcript cards\n",
    "\n",
    "Transcript Card (<div class=\"transcript-card\">)\n",
    "    Air Date: <div class=\"transcript-card__air-date\">\n",
    "    Transcript Card Details:  <div class=\"transcript-card__details\">\n",
    "        Show Name: <a class=\"transcript-card__show-name\" href=\"https://www.msnbc.com/transcripts/rachel-maddow-show/transcript-rachel-maddow-show-3-15-22-n1292030\">The Rachel Maddow Show</a>\n",
    "        Headline: <a class=\"transcript-card__headline\" href=\"https://www.msnbc.com/transcripts/rachel-maddow-show/transcript-rachel-maddow-show-3-15-22-n1292030\">Transcript: The Rachel Maddow Show, 3/15/22</a> \n",
    "        Guests: <span class=\"transcript-card__guests\"><span class=\"\">Guests: Serhiy Leshchenko, Amy Klobuchar, Alexander Goncharov</span></span></div></div>\n",
    "\n",
    "\n",
    "'''\n"
   ]
  },
  {
   "cell_type": "markdown",
   "metadata": {},
   "source": [
    "# Now, iterate through all of the pages of information \n",
    "\n",
    "Note: create a function that conslidates all of the previous steps that you went through the above code to get to this point\n",
    "\n",
    "\n",
    "    "
   ]
  },
  {
   "cell_type": "code",
   "execution_count": 9,
   "metadata": {},
   "outputs": [],
   "source": [
    "'''\n",
    "-- there are 25 pages worth of data in the specified date range\n",
    "\n",
    "Example url (WITH SPECIFIED DATE RANGE): https://www.msnbc.com/transcripts/show/rachel-maddow-show?page=2&dateRange=2020-03-01+TO+2022-03-31 \n",
    "\n",
    "starting URL: https://www.msnbc.com/transcripts/show/rachel-maddow-show?dateRange=2020-03-01+TO+2022-03-31 \n",
    "\n",
    "all other pages:\n",
    "https://www.msnbc.com/transcripts/show/rachel-maddow-show?page=2&dateRange=2020-03-01+TO+2022-03-31\n",
    "\n",
    "total_num_pages = 25\n",
    "\n",
    "for i in range(total_num_pages):\n",
    "    page_num = i + 1 \n",
    "    if page_num == 1:\n",
    "     URL = https://www.msnbc.com/transcripts/show/rachel-maddow-show?dateRange=2020-03-01+TO+2022-03-31 \n",
    "    \n",
    "    #insert function here\n",
    "\n",
    "    #iteratively export the files to the folder\n",
    "\n",
    "    else: \n",
    "    URL = \"https://www.msnbc.com/transcripts/show/rachel-maddow-show?page=\"+ page_num +  \"&dateRange=2020-03-01+TO+2022-03-31\"\n",
    "\n",
    "\n",
    "'''\n",
    "\n",
    "total_num_pages = 25\n",
    "\n",
    "for i in range(total_num_pages):\n",
    "    page_num = i + 1 \n",
    "\n",
    "    if page_num == 1:\n",
    "        URL = \"https://www.msnbc.com/transcripts/show/rachel-maddow-show?dateRange=2020-03-01+TO+2022-03-31\"\n",
    "    #insert function here\n",
    "\n",
    "    #iteratively export the files to the folder\n",
    "\n",
    "    else: \n",
    "        URL = \"https://www.msnbc.com/transcripts/show/rachel-maddow-show?page=\"+ str(page_num) +  \"&dateRange=2020-03-01+TO+2022-03-31\"\n",
    "\n",
    "   # print(URL)"
   ]
  },
  {
   "cell_type": "code",
   "execution_count": null,
   "metadata": {},
   "outputs": [],
   "source": [
    "'''\n",
    "Example URLS:\n",
    "https://www.msnbc.com/transcripts/rachel-maddow-show/transcript-rachel-maddow-show-3-15-22-n1292030 \n",
    "https://www.msnbc.com/transcripts/rachel-maddow-show/transcript-rachel-maddow-show-3-14-22-n1292021\n",
    "\n",
    "\n",
    "'''"
   ]
  },
  {
   "cell_type": "markdown",
   "metadata": {},
   "source": [
    "## Export Results as txt files with labels from dictionary names to the data folder\n"
   ]
  },
  {
   "cell_type": "code",
   "execution_count": null,
   "metadata": {},
   "outputs": [],
   "source": [
    "## Export Results as txt files with labels from dictionary names to the data folder\n",
    "    #try getting this one page as an example\n"
   ]
  }
 ],
 "metadata": {
  "interpreter": {
   "hash": "aee8b7b246df8f9039afb4144a1f6fd8d2ca17a180786b69acc140d282b71a49"
  },
  "kernelspec": {
   "display_name": "Python 3.9.6 64-bit",
   "language": "python",
   "name": "python3"
  },
  "language_info": {
   "codemirror_mode": {
    "name": "ipython",
    "version": 3
   },
   "file_extension": ".py",
   "mimetype": "text/x-python",
   "name": "python",
   "nbconvert_exporter": "python",
   "pygments_lexer": "ipython3",
   "version": "3.9.6"
  },
  "orig_nbformat": 4
 },
 "nbformat": 4,
 "nbformat_minor": 2
}
