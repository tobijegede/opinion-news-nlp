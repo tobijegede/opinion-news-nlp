{
 "cells": [
  {
   "cell_type": "code",
   "execution_count": 2,
   "metadata": {},
   "outputs": [],
   "source": [
    "#import required libraries\n",
    "import requests\n",
    "from bs4 import BeautifulSoup"
   ]
  },
  {
   "cell_type": "markdown",
   "metadata": {},
   "source": [
    "# MSNBC Web-Scraping"
   ]
  },
  {
   "cell_type": "markdown",
   "metadata": {},
   "source": [
    "## Step 1: Get the data from the home page of the transcripts website\n",
    "- get a list of the dates across the entire dataset\n",
    "- create a list and just iterate through the list and append the dataset to get \n",
    "\n",
    "Source on web-scraping: https://realpython.com/beautiful-soup-web-scraper-python/#step-3-parse-html-code-with-beautiful-soup \n"
   ]
  },
  {
   "cell_type": "markdown",
   "metadata": {},
   "source": [
    "## Get to the website and convert to a soup object"
   ]
  },
  {
   "cell_type": "code",
   "execution_count": 8,
   "metadata": {},
   "outputs": [],
   "source": [
    "#step 1: store the URL\n",
    "rachel_maddow_URL = \"https://www.msnbc.com/transcripts/show/rachel-maddow-show\"\n",
    "\n",
    "#step 2: get to the landing page of the website\n",
    "landing_page = requests.get(rachel_maddow_URL)\n",
    "\n",
    "#step 3: convert page into html\n",
    "soup = BeautifulSoup(landing_page.content, \"html.parser\")\n",
    "\n",
    "#below is a potential alternative additional link to look at/start with\n",
    "#https://www.msnbc.com/transcripts/show/rachel-maddow-show?dateRange=2020-03-01+TO+2022-03-31 <- all show transcripts from 3/1/2020 to 3/31/2022\n"
   ]
  },
  {
   "cell_type": "markdown",
   "metadata": {},
   "source": [
    "## Get the Transript Feed (A collection of individual transcript cards)"
   ]
  },
  {
   "cell_type": "code",
   "execution_count": 16,
   "metadata": {},
   "outputs": [
    {
     "name": "stdout",
     "output_type": "stream",
     "text": [
      "<div class=\"transcripts-feed\">\n",
      " <div class=\"transcript-card\">\n",
      "  <div class=\"transcript-card__air-date\">\n",
      "   Mar 16 2022\n",
      "  </div>\n",
      "  <div class=\"transcript-card__details\">\n",
      "   <a class=\"transcript-card__show-name\" href=\"https://www.msnbc.com/transcripts/rachel-maddow-show/transcript-rachel-maddow-show-3-15-22-n1292030\">\n",
      "    The Rachel Maddow Show\n",
      "   </a>\n",
      "   <a class=\"transcript-card__headline\" href=\"https://www.msnbc.com/transcripts/rachel-maddow-show/transcript-rachel-maddow-show-3-15-22-n1292030\">\n"
     ]
    }
   ],
   "source": [
    "#<div class=\"transcripts-page\">\n",
    "#<div class=\"transcripts-feed\">\n",
    "\n",
    "\n",
    "#step 4: extract the transcript feed page part of the soup\n",
    "transcript_feed = soup.find(class_=\"transcripts-feed\")\n",
    "\n",
    "#print out example of the html output that is contained in transcript feed\n",
    "print(transcript_feed.prettify()[:500])\n"
   ]
  },
  {
   "cell_type": "markdown",
   "metadata": {},
   "source": [
    "## Extract Individual Transcript Cards "
   ]
  },
  {
   "cell_type": "code",
   "execution_count": 17,
   "metadata": {},
   "outputs": [],
   "source": [
    "#step 5: get all of the transcript cards -- creates an object that is iterable to look at\n",
    "transcript_cards = transcript_feed.find_all(\"div\", class_ =\"transcript-card\")"
   ]
  },
  {
   "cell_type": "code",
   "execution_count": 20,
   "metadata": {},
   "outputs": [
    {
     "name": "stdout",
     "output_type": "stream",
     "text": [
      "<div class=\"transcript-card\"><div class=\"transcript-card__air-date\">Mar 16 2022</div><div class=\"transcript-card__details\"><a class=\"transcript-card__show-name\" href=\"https://www.msnbc.com/transcripts/rachel-maddow-show/transcript-rachel-maddow-show-3-15-22-n1292030\">The Rachel Maddow Show</a><a class=\"transcript-card__headline\" href=\"https://www.msnbc.com/transcripts/rachel-maddow-show/transcript-rachel-maddow-show-3-15-22-n1292030\">Transcript: The Rachel Maddow Show, 3/15/22</a><span class=\"transcript-card__guests\"><span class=\"\">Guests: Serhiy Leshchenko, Amy Klobuchar, Alexander Goncharov</span></span></div></div>\n",
      "\n"
     ]
    }
   ],
   "source": [
    "#step 6: display the results of the above\n",
    "for card in transcript_cards[:1]:\n",
    "    print(card, end=\"\\n\"*2)"
   ]
  },
  {
   "cell_type": "code",
   "execution_count": 12,
   "metadata": {},
   "outputs": [
    {
     "data": {
      "text/plain": [
       "'\\nKey Components of HTML output:\\nEach entry = a \"transcript card\"\\nNote: the transcript feed is made up of many transcript cards\\n\\nTranscript Card (<div class=\"transcript-card\">)\\n    Air Date: <div class=\"transcript-card__air-date\">\\n    Transcript Card Details:  <div class=\"transcript-card__details\">\\n        Show Name: <a class=\"transcript-card__show-name\" href=\"https://www.msnbc.com/transcripts/rachel-maddow-show/transcript-rachel-maddow-show-3-15-22-n1292030\">The Rachel Maddow Show</a>\\n        Headline: <a class=\"transcript-card__headline\" href=\"https://www.msnbc.com/transcripts/rachel-maddow-show/transcript-rachel-maddow-show-3-15-22-n1292030\">Transcript: The Rachel Maddow Show, 3/15/22</a> \\n        Guests: <span class=\"transcript-card__guests\"><span class=\"\">Guests: Serhiy Leshchenko, Amy Klobuchar, Alexander Goncharov</span></span></div></div>\\n\\n\\n\\n\\n'"
      ]
     },
     "execution_count": 12,
     "metadata": {},
     "output_type": "execute_result"
    }
   ],
   "source": [
    "'''\n",
    "Key Components of HTML output:\n",
    "Each entry = a \"transcript card\"\n",
    "Note: the transcript feed is made up of many transcript cards\n",
    "\n",
    "Transcript Card (<div class=\"transcript-card\">)\n",
    "    Air Date: <div class=\"transcript-card__air-date\">\n",
    "    Transcript Card Details:  <div class=\"transcript-card__details\">\n",
    "        Show Name: <a class=\"transcript-card__show-name\" href=\"https://www.msnbc.com/transcripts/rachel-maddow-show/transcript-rachel-maddow-show-3-15-22-n1292030\">The Rachel Maddow Show</a>\n",
    "        Headline: <a class=\"transcript-card__headline\" href=\"https://www.msnbc.com/transcripts/rachel-maddow-show/transcript-rachel-maddow-show-3-15-22-n1292030\">Transcript: The Rachel Maddow Show, 3/15/22</a> \n",
    "        Guests: <span class=\"transcript-card__guests\"><span class=\"\">Guests: Serhiy Leshchenko, Amy Klobuchar, Alexander Goncharov</span></span></div></div>\n",
    "\n",
    "\n",
    "'''\n"
   ]
  },
  {
   "cell_type": "code",
   "execution_count": null,
   "metadata": {},
   "outputs": [],
   "source": [
    "'''\n",
    "Example URLS:\n",
    "https://www.msnbc.com/transcripts/rachel-maddow-show/transcript-rachel-maddow-show-3-15-22-n1292030 \n",
    "https://www.msnbc.com/transcripts/rachel-maddow-show/transcript-rachel-maddow-show-3-14-22-n1292021\n",
    "\n",
    "\n",
    "'''"
   ]
  }
 ],
 "metadata": {
  "interpreter": {
   "hash": "aee8b7b246df8f9039afb4144a1f6fd8d2ca17a180786b69acc140d282b71a49"
  },
  "kernelspec": {
   "display_name": "Python 3.9.6 64-bit",
   "language": "python",
   "name": "python3"
  },
  "language_info": {
   "codemirror_mode": {
    "name": "ipython",
    "version": 3
   },
   "file_extension": ".py",
   "mimetype": "text/x-python",
   "name": "python",
   "nbconvert_exporter": "python",
   "pygments_lexer": "ipython3",
   "version": "3.9.6"
  },
  "orig_nbformat": 4
 },
 "nbformat": 4,
 "nbformat_minor": 2
}
