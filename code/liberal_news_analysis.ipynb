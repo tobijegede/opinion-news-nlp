{
 "cells": [
  {
   "cell_type": "code",
   "execution_count": null,
   "metadata": {},
   "outputs": [],
   "source": [
    "# placeholder = \n",
    "#Goal = do separate analysis for the conservative and liberal news sources and \n",
    "\n",
    "#load in the text files from rachel maddow and from anderson cooper"
   ]
  }
 ],
 "metadata": {
  "language_info": {
   "name": "python"
  },
  "orig_nbformat": 4
 },
 "nbformat": 4,
 "nbformat_minor": 2
}
