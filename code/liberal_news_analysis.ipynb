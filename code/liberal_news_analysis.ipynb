{
 "cells": [
  {
   "cell_type": "markdown",
   "metadata": {},
   "source": [
    "# To-do: \n",
    "- Based on the above, we need to remove the names of the co-hosts from the list of words that show up!\n",
    "- string cleaning"
   ]
  },
  {
   "cell_type": "markdown",
   "metadata": {},
   "source": [
    "## Load in Data"
   ]
  },
  {
   "cell_type": "markdown",
   "metadata": {},
   "source": [
    "### Read in the total list of data files"
   ]
  },
  {
   "cell_type": "code",
   "execution_count": 1,
   "metadata": {},
   "outputs": [],
   "source": [
    "#import libraries\n",
    "import glob \n",
    "import os\n",
    "import matplotlib.pyplot as plt\n",
    "\n",
    "#step 1: get a list of file names to read into the dataset\n",
    "repo_path = os.path.dirname(os.getcwd()) #get the correct file path \n",
    "rm_paths = glob.glob(repo_path + \"/data/01-raw/rachel_maddow/*.txt\") #the paths for the rachel maddow transcript files\n",
    "ac_paths = glob.glob(repo_path + \"/data/01-raw/anderson_cooper/*.txt\") #the paths for the anderson cooper transcript files\n",
    "\n",
    "all_liberal_files = rm_paths + ac_paths\n"
   ]
  },
  {
   "cell_type": "markdown",
   "metadata": {},
   "source": [
    "### Read in text of transcript files"
   ]
  },
  {
   "cell_type": "code",
   "execution_count": 2,
   "metadata": {},
   "outputs": [],
   "source": [
    "raw_text = [] #create a container to hold the datafiles \n",
    "\n",
    "#step 2: read in each transcript as its own string and append to the list of raw documents\n",
    "for transcript in all_liberal_files:\n",
    "    text = open(transcript, encoding='utf-8').read()\n",
    "    raw_text.append(text)\n"
   ]
  },
  {
   "cell_type": "code",
   "execution_count": 3,
   "metadata": {},
   "outputs": [
    {
     "name": "stdout",
     "output_type": "stream",
     "text": [
      "Our liberal news corpus consists of 1,008 total transcripts, sourced from Anderson Cooper 360 and the Rachel Maddow Show.\n"
     ]
    }
   ],
   "source": [
    "print(\"Our liberal news corpus consists of {:,} total transcripts, sourced from Anderson Cooper 360 and the Rachel Maddow Show.\".format(len(raw_text)))"
   ]
  },
  {
   "cell_type": "markdown",
   "metadata": {},
   "source": [
    "## Data Pre-Processing"
   ]
  },
  {
   "cell_type": "markdown",
   "metadata": {},
   "source": [
    "### Spacy Implementation & Removal of Stop Words \n",
    "This analysis is useful if we want more control over the corpus of stop words that are used in our analysis"
   ]
  },
  {
   "cell_type": "code",
   "execution_count": 4,
   "metadata": {},
   "outputs": [],
   "source": [
    "#Compare spacy implemtation to the sklearn #loads spacy and turns off some aspects \n",
    "# import spacy\n",
    "# nlp = spacy.load('en_core_web_sm', disable=['ner', 'parser'])\n"
   ]
  },
  {
   "cell_type": "markdown",
   "metadata": {},
   "source": [
    "## Word- Frequency Analysis"
   ]
  },
  {
   "cell_type": "markdown",
   "metadata": {},
   "source": [
    "### Use CountVectorizer to get the unique vocabulary list and eliminate stop words\n",
    "\n"
   ]
  },
  {
   "cell_type": "code",
   "execution_count": 5,
   "metadata": {},
   "outputs": [
    {
     "name": "stdout",
     "output_type": "stream",
     "text": [
      "There are 4,992 unique words in the vocabulary.\n"
     ]
    }
   ],
   "source": [
    "#import the required package for the tfidf vector\n",
    "from sklearn.feature_extraction.text import CountVectorizer\n",
    "\n",
    "#step 1: set up the tfidf vectorizer\n",
    "vectorizer = CountVectorizer(min_df=50, stop_words=\"english\", max_df=0.8) #update/justify using these settings \n",
    " \n",
    "#step 2: apply the vectorizer to the corpus of documents (& store in document matrix X )\n",
    "X = vectorizer.fit(raw_text) #should we use just .fit or .fit_transform? The latter actually results in the creation of a matrix object (where # of cols = # of words in the vocab)\n",
    "\n",
    "#step 3: print out the vocabulary found by the tfid object\n",
    "print(\"There are {:,} unique words in the vocabulary.\".format(len(X.vocabulary_)))"
   ]
  },
  {
   "cell_type": "code",
   "execution_count": 6,
   "metadata": {},
   "outputs": [],
   "source": [
    "#check to see if \"covid\" is in the dictionary\n",
    "vocab = X.vocabulary_\n",
    "\n",
    "#vocab['covid'] #results in an index of 1197) \n",
    "#Note: this is NOT equivalent to the number of times covid appears in the documents\n",
    "# the number below is solely an index value"
   ]
  },
  {
   "cell_type": "code",
   "execution_count": 7,
   "metadata": {},
   "outputs": [
    {
     "data": {
      "text/plain": [
       "1098"
      ]
     },
     "execution_count": 7,
     "metadata": {},
     "output_type": "execute_result"
    }
   ],
   "source": [
    "#check to see if \"coronavirus\" is in the dictionary - return index\n",
    "\n",
    "vocab['coronavirus']"
   ]
  },
  {
   "cell_type": "markdown",
   "metadata": {},
   "source": [
    "### Get a Word-Frequency Table from CountVectorizer\n",
    "   Note: need to double-check how the counts are arrived at - is it by document or number of occurences in a given document?"
   ]
  },
  {
   "cell_type": "code",
   "execution_count": 8,
   "metadata": {},
   "outputs": [],
   "source": [
    "X_transformed = vectorizer.fit_transform(raw_text)\n"
   ]
  },
  {
   "cell_type": "code",
   "execution_count": 9,
   "metadata": {},
   "outputs": [
    {
     "data": {
      "text/plain": [
       "array(['00', '01', '02', ..., 'zero', 'zone', 'zoom'], dtype=object)"
      ]
     },
     "execution_count": 9,
     "metadata": {},
     "output_type": "execute_result"
    }
   ],
   "source": [
    "array_of_words = vectorizer.get_feature_names_out()\n",
    "array_of_words"
   ]
  },
  {
   "cell_type": "code",
   "execution_count": 10,
   "metadata": {},
   "outputs": [
    {
     "data": {
      "text/plain": [
       "array([3500,  413,  396, ...,  483,  190,   81], dtype=int64)"
      ]
     },
     "execution_count": 10,
     "metadata": {},
     "output_type": "execute_result"
    }
   ],
   "source": [
    "array_of_counts = X_transformed.toarray().sum(axis=0) #sum the number of occurences of a word across the entire liberal corpus\n",
    "array_of_counts"
   ]
  },
  {
   "cell_type": "code",
   "execution_count": 11,
   "metadata": {},
   "outputs": [],
   "source": [
    "word_frequency_dictionary = dict(zip(array_of_words,array_of_counts))"
   ]
  },
  {
   "cell_type": "markdown",
   "metadata": {},
   "source": [
    "### Plot the Top 10 Most Frequency Occuring Words"
   ]
  },
  {
   "cell_type": "code",
   "execution_count": 12,
   "metadata": {},
   "outputs": [
    {
     "name": "stdout",
     "output_type": "stream",
     "text": [
      "{'cooper': 19988, 'maddow': 8800, 'cnn': 8641, 'anderson': 6995, 'republicans': 6014, 'dr': 5812, 'police': 5547, 'health': 5397, 'court': 5303, 'vote': 5294}\n"
     ]
    }
   ],
   "source": [
    "from operator import itemgetter\n",
    "\n",
    "#set the number of top words to see\n",
    "num_top_words = 10\n",
    "\n",
    "top_10_words = dict(sorted(word_frequency_dictionary.items(), key = itemgetter(1), reverse = True)[:num_top_words])\n",
    "\n",
    "print(top_10_words)\n"
   ]
  },
  {
   "cell_type": "code",
   "execution_count": 13,
   "metadata": {},
   "outputs": [
    {
     "data": {
      "image/png": "[encoded data removed]",
      "text/plain": [
       "<Figure size 576x396 with 1 Axes>"
      ]
     },
     "metadata": {},
     "output_type": "display_data"
    }
   ],
   "source": [
    "plt.style.use('seaborn')  \n",
    "\n",
    "x = top_10_words.keys()\n",
    "y = top_10_words.values()\n",
    "plt.bar(x,y)\n",
    "plt.xlabel('Word')\n",
    "plt.xticks(rotation='vertical')\n",
    "plt.ylabel('Frequency')\n",
    "plt.title('Top 20 Words')\n",
    "\n",
    "plt.show()"
   ]
  },
  {
   "cell_type": "code",
   "execution_count": 14,
   "metadata": {},
   "outputs": [],
   "source": [
    "# total_unique_words = X.vocabulary_ #, key=lambda d: d[1]) \n",
    "\n",
    "# total_unique_words\n",
    "#X.vocabulary_"
   ]
  },
  {
   "cell_type": "markdown",
   "metadata": {},
   "source": [
    "## Co-Occurence Analysis\n",
    "\n",
    "- Need to do string cleaning. \n",
    "- For now, appearance anywhere in a transcript increases count by 1."
   ]
  },
  {
   "cell_type": "code",
   "execution_count": 15,
   "metadata": {},
   "outputs": [],
   "source": [
    "# import packages\n",
    "from collections import Counter\n",
    "import spacy\n",
    "import numpy as np"
   ]
  },
  {
   "cell_type": "code",
   "execution_count": 16,
   "metadata": {},
   "outputs": [],
   "source": [
    "# instantiate nlp\n",
    "nlp = spacy.load('en_core_web_sm', disable = ['parser'])"
   ]
  },
  {
   "cell_type": "code",
   "execution_count": 17,
   "metadata": {},
   "outputs": [],
   "source": [
    "# need to do some pre-processing/string cleaning*****\n",
    "# warning: takes a while\n",
    "liberal_nlp = [nlp(text) for text in raw_text]"
   ]
  },
  {
   "cell_type": "code",
   "execution_count": 18,
   "metadata": {},
   "outputs": [],
   "source": [
    "# num transcripts\n",
    "num_transcripts = len(liberal_nlp)"
   ]
  },
  {
   "cell_type": "code",
   "execution_count": 19,
   "metadata": {},
   "outputs": [
    {
     "data": {
      "text/plain": [
       "56824"
      ]
     },
     "execution_count": 19,
     "metadata": {},
     "output_type": "execute_result"
    }
   ],
   "source": [
    "# see full lemma set - identify how covid is named\n",
    "lemma_set = set(token.lemma_.lower() for transcript in liberal_nlp for token in transcript)\n",
    "len(lemma_set)"
   ]
  },
  {
   "cell_type": "code",
   "execution_count": 27,
   "metadata": {},
   "outputs": [
    {
     "data": {
      "text/plain": [
       "{'coronavirus', 'covid', 'covid-19'}"
      ]
     },
     "execution_count": 27,
     "metadata": {},
     "output_type": "execute_result"
    }
   ],
   "source": [
    "# covid_terms\n",
    "covid_terms = ['coronavirus', 'covid', 'covid-19']\n",
    "\n",
    "lemma_set.intersection(set(covid_terms))"
   ]
  },
  {
   "cell_type": "code",
   "execution_count": 28,
   "metadata": {},
   "outputs": [],
   "source": [
    "# counters\n",
    "lemma_counts = Counter()\n",
    "co_occur_counts = Counter()\n",
    "covid_count = 0\n",
    "\n",
    "# for each transcript, add unique lemmas to counter\n",
    "# increase co-occurrence and covid counter if covid terms overlap lemma set\n",
    "for transcript in liberal_nlp:\n",
    "    lemmas = {token.lemma_.lower() for token in transcript}\n",
    "    lemma_counts.update(lemmas)\n",
    "    if not lemmas.isdisjoint(set(covid_terms)):\n",
    "        co_occur_counts.update(lemmas)\n",
    "        covid_count += 1\n",
    "\n",
    "# P(covid)\n",
    "covid_ratio = covid_count / num_transcripts # constant\n",
    "\n",
    "# calculate PMI only for words that co-occur (do not care about others)\n",
    "pmi = list()\n",
    "for lemma, count in co_occur_counts.items():\n",
    "    \n",
    "    lemma_ratio = lemma_counts[lemma] / num_transcripts # P(lemma)\n",
    "    co_ratio = co_occur_counts[lemma] / num_transcripts # P(covid, lemma)\n",
    "    \n",
    "    pmi += [(lemma, \n",
    "             np.log2(co_ratio / (covid_ratio * lemma_ratio)))]\n",
    "\n",
    "# sort list of tuples by pmi, descending\n",
    "pmi_sort = sorted(pmi, key = lambda x: x[1], reverse = True)"
   ]
  },
  {
   "cell_type": "code",
   "execution_count": 29,
   "metadata": {},
   "outputs": [
    {
     "data": {
      "text/plain": [
       "[('2,200', 0.21240833276382595),\n",
       " ('ppe', 0.21240833276382595),\n",
       " ('birx', 0.21240833276382595),\n",
       " ('coronavirus', 0.21240833276382595),\n",
       " ('intubate', 0.21240833276382595),\n",
       " ('visualization', 0.21240833276382595),\n",
       " ('gown', 0.21240833276382595),\n",
       " ('retailer', 0.21240833276382595),\n",
       " ('alleviate', 0.21240833276382595),\n",
       " ('240,000', 0.21240833276382595),\n",
       " ('javits', 0.21240833276382595),\n",
       " ('gambit', 0.21240833276382595),\n",
       " ('inequity', 0.21240833276382595),\n",
       " ('garcetti', 0.21240833276382595),\n",
       " ('n95', 0.21240833276382595),\n",
       " ('destiny', 0.21240833276382595),\n",
       " ('skyrocket', 0.21240833276382595),\n",
       " ('reeves', 0.21240833276382595),\n",
       " ('ebola', 0.21240833276382595),\n",
       " ('patchwork', 0.21240833276382595),\n",
       " ('inslee', 0.21240833276382595),\n",
       " ('nationalize', 0.21240833276382595),\n",
       " ('caseload', 0.21240833276382595),\n",
       " ('steeply', 0.21240833276382595),\n",
       " ('merkel', 0.21240833276382595),\n",
       " ('tolerance', 0.21240833276382595),\n",
       " ('lizard', 0.21240833276382595),\n",
       " ('metaphor', 0.21240833276382595),\n",
       " ('tampa', 0.21240833276382595),\n",
       " ('goodwill', 0.21240833276382595),\n",
       " ('californians', 0.21240833276382595),\n",
       " ('hutchinson', 0.21240833276382595),\n",
       " ('anesthesia', 0.21240833276382595),\n",
       " ('wuhan', 0.21240833276382595),\n",
       " ('symptomatic', 0.21240833276382595),\n",
       " ('tammy', 0.21240833276382595),\n",
       " ('ardent', 0.21240833276382595),\n",
       " ('outdoors', 0.21240833276382595),\n",
       " ('9th', 0.21240833276382595),\n",
       " ('martyr', 0.21240833276382595),\n",
       " ('indoor', 0.21240833276382595),\n",
       " ('defining', 0.21240833276382595),\n",
       " ('inmate', 0.21240833276382595),\n",
       " ('diabetes', 0.21240833276382595),\n",
       " ('carson', 0.21240833276382595),\n",
       " ('containment', 0.21240833276382595),\n",
       " ('vent', 0.21240833276382595),\n",
       " ('kirkland', 0.21240833276382595),\n",
       " ('covid-', 0.21240833276382595),\n",
       " ('downhill', 0.21240833276382595),\n",
       " ('seasonal', 0.21240833276382595),\n",
       " ('loosen', 0.21240833276382595),\n",
       " ('underserved', 0.21240833276382595),\n",
       " ('1,100', 0.21240833276382595),\n",
       " ('grown', 0.21240833276382595),\n",
       " ('cardiologist', 0.21240833276382595),\n",
       " ('vin', 0.21240833276382595),\n",
       " ('kristi', 0.21240833276382595),\n",
       " ('epidemiological', 0.21240833276382595),\n",
       " ('noem', 0.21240833276382595),\n",
       " ('vivek', 0.21240833276382595),\n",
       " ('lid', 0.21240833276382595),\n",
       " ('sicker', 0.21240833276382595),\n",
       " ('stabilize', 0.21240833276382595),\n",
       " ('cater', 0.21240833276382595),\n",
       " ('converge', 0.21240833276382595),\n",
       " ('overreact', 0.21240833276382595),\n",
       " ('municipality', 0.21240833276382595),\n",
       " ('complacent', 0.21240833276382595),\n",
       " ('nia', 0.21240833276382595),\n",
       " ('haines', 0.21240833276382595),\n",
       " ('waterloo', 0.21240833276382595),\n",
       " ('asthma', 0.21240833276382595),\n",
       " ('2,700', 0.21240833276382595),\n",
       " ('eyeball', 0.21240833276382595),\n",
       " ('locker', 0.21240833276382595),\n",
       " ('jbs', 0.21240833276382595),\n",
       " ('dishearten', 0.21240833276382595),\n",
       " ('cdc`s', 0.21240833276382595),\n",
       " ('pneumonia', 0.21240833276382595),\n",
       " ('massage', 0.21240833276382595),\n",
       " ('preppe', 0.21240833276382595),\n",
       " ('blower', 0.21240833276382595),\n",
       " ('institutes', 0.21240833276382595),\n",
       " ('announcer', 0.21240833276382595),\n",
       " ('azar', 0.21240833276382595),\n",
       " ('collaborative', 0.21240833276382595),\n",
       " ('traveler', 0.21240833276382595),\n",
       " ('fraudulently', 0.21240833276382595),\n",
       " ('caring', 0.21240833276382595),\n",
       " ('meatpacke', 0.21240833276382595),\n",
       " ('upswing', 0.21240833276382595),\n",
       " ('meatpacking', 0.21240833276382595),\n",
       " ('dale', 0.21240833276382595),\n",
       " ('reassurance', 0.21240833276382595),\n",
       " ('decorate', 0.21240833276382595),\n",
       " ('reagent', 0.21240833276382595),\n",
       " ('premium', 0.21240833276382595),\n",
       " ('beschloss', 0.21240833276382595),\n",
       " ('errand', 0.21240833276382595)]"
      ]
     },
     "execution_count": 29,
     "metadata": {},
     "output_type": "execute_result"
    }
   ],
   "source": [
    "# see top 100 pmi values (note ties)\n",
    "pmi_sort[0:100]"
   ]
  },
  {
   "cell_type": "code",
   "execution_count": null,
   "metadata": {},
   "outputs": [],
   "source": []
  },
  {
   "cell_type": "code",
   "execution_count": null,
   "metadata": {},
   "outputs": [],
   "source": []
  },
  {
   "cell_type": "code",
   "execution_count": null,
   "metadata": {},
   "outputs": [],
   "source": []
  },
  {
   "cell_type": "markdown",
   "metadata": {},
   "source": [
    "## Topic Modeling"
   ]
  },
  {
   "cell_type": "code",
   "execution_count": null,
   "metadata": {},
   "outputs": [],
   "source": []
  },
  {
   "cell_type": "markdown",
   "metadata": {},
   "source": [
    "## Sentiment Analysis"
   ]
  },
  {
   "cell_type": "markdown",
   "metadata": {},
   "source": []
  }
 ],
 "metadata": {
  "interpreter": {
   "hash": "aee8b7b246df8f9039afb4144a1f6fd8d2ca17a180786b69acc140d282b71a49"
  },
  "kernelspec": {
   "display_name": "Python 3",
   "language": "python",
   "name": "python3"
  },
  "language_info": {
   "codemirror_mode": {
    "name": "ipython",
    "version": 3
   },
   "file_extension": ".py",
   "mimetype": "text/x-python",
   "name": "python",
   "nbconvert_exporter": "python",
   "pygments_lexer": "ipython3",
   "version": "3.8.3"
  }
 },
 "nbformat": 4,
 "nbformat_minor": 2
}
